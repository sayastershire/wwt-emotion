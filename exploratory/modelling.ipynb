{
 "cells": [
  {
   "cell_type": "code",
   "execution_count": 17,
   "metadata": {
    "collapsed": true
   },
   "outputs": [
    {
     "data": {
      "text/plain": "  emotion                                           raw_text  \\\n0    None  REPLY AND RT WITH THE TAGS 💜\\n\\n#AMAsTNT BTS @...   \n1    None  Lockscreens|@BTS_twt \\n#BTSxAMAs #AMAsTNT #BTS...   \n2       h  i love them 😭\\n\\n#AMAsTNT BTS @BTS_twt\\n\\nhttp...   \n3    None  [📸]\\n\\nNew Kids on The Block  bersama BTS.\\n\\n...   \n4    None  [📸]\\n\\nShawn Stockman instagram update.\\n\\n📎 :...   \n\n                                   1st_clean_twitter  \\\n0  REPLY AND RT WITH THE TAGS 💜\\n\\n AMAsTNT BTS B...   \n1  Lockscreens|BTS_twt \\n BTSxAMAs  AMAsTNT  BTS\\...   \n2          i love them 😭\\n\\n AMAsTNT BTS BTS_twt\\n\\n   \n3  [📸]\\n\\nNew Kids on The Block  bersama BTS.\\n\\n...   \n4  [📸]\\n\\nShawn Stockman instagram update.\\n\\n📎 :...   \n\n                            1st_clean_twitter_gensim  \\\n0              REPLY AND RT WITH THE TAGS 💜\\n\\n BTS    \n1   Lockscreens| \\n  \\nDon't repost! be honest!∅ \\n    \n2                         i love them 😭\\n\\n BTS \\n\\n   \n3  [📸]\\n\\nNew Kids on The Block  bersama BTS.\\n\\n...   \n4  [📸]\\n\\nShawn Stockman instagram update.\\n\\n📎 :...   \n\n                                     2nd_punctuation  \\\n0  REPLY AND RT WITH THE TAGS 💜\\n\\n AMAsTNT BTS B...   \n1  LockscreensBTStwt \\n BTSxAMAs  AMAsTNT  BTS\\nD...   \n2           i love them 😭\\n\\n AMAsTNT BTS BTStwt\\n\\n   \n3  📸\\n\\nNew Kids on The Block  bersama BTS\\n\\nDon...   \n4  📸\\n\\nShawn Stockman instagram update\\n\\n📎   \\n...   \n\n                              2nd_punctuation_gensim  \\\n0              REPLY AND RT WITH THE TAGS 💜\\n\\n BTS    \n1     Lockscreens \\n  \\nDont repost! be honest!∅ \\n    \n2                         i love them 😭\\n\\n BTS \\n\\n   \n3  📸\\n\\nNew Kids on The Block  bersama BTS.\\n\\nDo...   \n4  📸\\n\\nShawn Stockman instagram update.\\n\\n📎   \\...   \n\n                                           3rd_emoji  \\\n0  REPLY AND RT WITH THE TAGS \\n\\n AMAsTNT BTS BT...   \n1  LockscreensBTStwt \\n BTSxAMAs  AMAsTNT  BTS\\nD...   \n2            i love them \\n\\n AMAsTNT BTS BTStwt\\n\\n   \n3  \\n\\nNew Kids on The Block  bersama BTS\\n\\nDonn...   \n4  \\n\\nShawn Stockman instagram update\\n\\n   \\n\\n...   \n\n                                    3rd_emoji_gensim  \\\n0               REPLY AND RT WITH THE TAGS \\n\\n BTS    \n1     Lockscreens \\n  \\nDont repost! be honest!∅ \\n    \n2                          i love them \\n\\n BTS \\n\\n   \n3  \\n\\nNew Kids on The Block  bersama BTS.\\n\\nDon...   \n4  \\n\\nShawn Stockman instagram update.\\n\\n   \\n\\...   \n\n                                           4th_lower  \\\n0  reply and rt with the tags \\n\\n amastnt bts bt...   \n1  lockscreensbtstwt \\n btsxamas  amastnt  bts\\nd...   \n2            i love them \\n\\n amastnt bts btstwt\\n\\n   \n3  \\n\\nnew kids on the block  bersama bts\\n\\ndonn...   \n4  \\n\\nshawn stockman instagram update\\n\\n   \\n\\n...   \n\n                                    4th_lower_gensim  \\\n0               reply and rt with the tags \\n\\n bts    \n1     lockscreens \\n  \\ndont repost! be honest!∅ \\n    \n2                          i love them \\n\\n bts \\n\\n   \n3  \\n\\nnew kids on the block  bersama bts.\\n\\ndon...   \n4  \\n\\nshawn stockman instagram update.\\n\\n   \\n\\...   \n\n                                       5th_tokenized  \\\n0  [reply, and, rt, with, the, tags, amastnt, bts...   \n1  [lockscreensbtstwt, btsxamas, amastnt, bts, do...   \n2              [i, love, them, amastnt, bts, btstwt]   \n3  [new, kids, on, the, block, bersama, bts, donn...   \n4  [shawn, stockman, instagram, update, btsxamas,...   \n\n                                5th_tokenized_gensim  \\\n0             [reply, and, rt, with, the, tags, bts]   \n1   [lockscreens, dont, repost, !, be, honest, !, ∅]   \n2                               [i, love, them, bts]   \n3  [new, kids, on, the, block, bersama, bts, ., d...   \n4     [shawn, stockman, instagram, update, ., 방탄소년단]   \n\n                                            sentence  \\\n0  Sentence: \"reply and rt with the tags amastnt ...   \n1  Sentence: \"lockscreensbtstwt btsxamas amastnt ...   \n2  Sentence: \"i love them amastnt bts btstwt\"   [...   \n3  Sentence: \"new kids on the block bersama bts d...   \n4  Sentence: \"shawn stockman instagram update bts...   \n\n                                            6_tagged  \n0  reply_PROPN and_PROPN rt_PROPN with_PROPN the_...  \n1  lockscreensbtstwt_PROPN btsxamas_PROPN amastnt...  \n2  i_PROPN love_PROPN them_PROPN amastnt_PROPN bt...  \n3  new_PROPN kids_PROPN on_PROPN the_PROPN block_...  \n4  shawn_PROPN stockman_PROPN instagram_PROPN upd...  ",
      "text/html": "<div>\n<style scoped>\n    .dataframe tbody tr th:only-of-type {\n        vertical-align: middle;\n    }\n\n    .dataframe tbody tr th {\n        vertical-align: top;\n    }\n\n    .dataframe thead th {\n        text-align: right;\n    }\n</style>\n<table border=\"1\" class=\"dataframe\">\n  <thead>\n    <tr style=\"text-align: right;\">\n      <th></th>\n      <th>emotion</th>\n      <th>raw_text</th>\n      <th>1st_clean_twitter</th>\n      <th>1st_clean_twitter_gensim</th>\n      <th>2nd_punctuation</th>\n      <th>2nd_punctuation_gensim</th>\n      <th>3rd_emoji</th>\n      <th>3rd_emoji_gensim</th>\n      <th>4th_lower</th>\n      <th>4th_lower_gensim</th>\n      <th>5th_tokenized</th>\n      <th>5th_tokenized_gensim</th>\n      <th>sentence</th>\n      <th>6_tagged</th>\n    </tr>\n  </thead>\n  <tbody>\n    <tr>\n      <th>0</th>\n      <td>None</td>\n      <td>REPLY AND RT WITH THE TAGS 💜\\n\\n#AMAsTNT BTS @...</td>\n      <td>REPLY AND RT WITH THE TAGS 💜\\n\\n AMAsTNT BTS B...</td>\n      <td>REPLY AND RT WITH THE TAGS 💜\\n\\n BTS</td>\n      <td>REPLY AND RT WITH THE TAGS 💜\\n\\n AMAsTNT BTS B...</td>\n      <td>REPLY AND RT WITH THE TAGS 💜\\n\\n BTS</td>\n      <td>REPLY AND RT WITH THE TAGS \\n\\n AMAsTNT BTS BT...</td>\n      <td>REPLY AND RT WITH THE TAGS \\n\\n BTS</td>\n      <td>reply and rt with the tags \\n\\n amastnt bts bt...</td>\n      <td>reply and rt with the tags \\n\\n bts</td>\n      <td>[reply, and, rt, with, the, tags, amastnt, bts...</td>\n      <td>[reply, and, rt, with, the, tags, bts]</td>\n      <td>Sentence: \"reply and rt with the tags amastnt ...</td>\n      <td>reply_PROPN and_PROPN rt_PROPN with_PROPN the_...</td>\n    </tr>\n    <tr>\n      <th>1</th>\n      <td>None</td>\n      <td>Lockscreens|@BTS_twt \\n#BTSxAMAs #AMAsTNT #BTS...</td>\n      <td>Lockscreens|BTS_twt \\n BTSxAMAs  AMAsTNT  BTS\\...</td>\n      <td>Lockscreens| \\n  \\nDon't repost! be honest!∅ \\n</td>\n      <td>LockscreensBTStwt \\n BTSxAMAs  AMAsTNT  BTS\\nD...</td>\n      <td>Lockscreens \\n  \\nDont repost! be honest!∅ \\n</td>\n      <td>LockscreensBTStwt \\n BTSxAMAs  AMAsTNT  BTS\\nD...</td>\n      <td>Lockscreens \\n  \\nDont repost! be honest!∅ \\n</td>\n      <td>lockscreensbtstwt \\n btsxamas  amastnt  bts\\nd...</td>\n      <td>lockscreens \\n  \\ndont repost! be honest!∅ \\n</td>\n      <td>[lockscreensbtstwt, btsxamas, amastnt, bts, do...</td>\n      <td>[lockscreens, dont, repost, !, be, honest, !, ∅]</td>\n      <td>Sentence: \"lockscreensbtstwt btsxamas amastnt ...</td>\n      <td>lockscreensbtstwt_PROPN btsxamas_PROPN amastnt...</td>\n    </tr>\n    <tr>\n      <th>2</th>\n      <td>h</td>\n      <td>i love them 😭\\n\\n#AMAsTNT BTS @BTS_twt\\n\\nhttp...</td>\n      <td>i love them 😭\\n\\n AMAsTNT BTS BTS_twt\\n\\n</td>\n      <td>i love them 😭\\n\\n BTS \\n\\n</td>\n      <td>i love them 😭\\n\\n AMAsTNT BTS BTStwt\\n\\n</td>\n      <td>i love them 😭\\n\\n BTS \\n\\n</td>\n      <td>i love them \\n\\n AMAsTNT BTS BTStwt\\n\\n</td>\n      <td>i love them \\n\\n BTS \\n\\n</td>\n      <td>i love them \\n\\n amastnt bts btstwt\\n\\n</td>\n      <td>i love them \\n\\n bts \\n\\n</td>\n      <td>[i, love, them, amastnt, bts, btstwt]</td>\n      <td>[i, love, them, bts]</td>\n      <td>Sentence: \"i love them amastnt bts btstwt\"   [...</td>\n      <td>i_PROPN love_PROPN them_PROPN amastnt_PROPN bt...</td>\n    </tr>\n    <tr>\n      <th>3</th>\n      <td>None</td>\n      <td>[📸]\\n\\nNew Kids on The Block  bersama BTS.\\n\\n...</td>\n      <td>[📸]\\n\\nNew Kids on The Block  bersama BTS.\\n\\n...</td>\n      <td>[📸]\\n\\nNew Kids on The Block  bersama BTS.\\n\\n...</td>\n      <td>📸\\n\\nNew Kids on The Block  bersama BTS\\n\\nDon...</td>\n      <td>📸\\n\\nNew Kids on The Block  bersama BTS.\\n\\nDo...</td>\n      <td>\\n\\nNew Kids on The Block  bersama BTS\\n\\nDonn...</td>\n      <td>\\n\\nNew Kids on The Block  bersama BTS.\\n\\nDon...</td>\n      <td>\\n\\nnew kids on the block  bersama bts\\n\\ndonn...</td>\n      <td>\\n\\nnew kids on the block  bersama bts.\\n\\ndon...</td>\n      <td>[new, kids, on, the, block, bersama, bts, donn...</td>\n      <td>[new, kids, on, the, block, bersama, bts, ., d...</td>\n      <td>Sentence: \"new kids on the block bersama bts d...</td>\n      <td>new_PROPN kids_PROPN on_PROPN the_PROPN block_...</td>\n    </tr>\n    <tr>\n      <th>4</th>\n      <td>None</td>\n      <td>[📸]\\n\\nShawn Stockman instagram update.\\n\\n📎 :...</td>\n      <td>[📸]\\n\\nShawn Stockman instagram update.\\n\\n📎 :...</td>\n      <td>[📸]\\n\\nShawn Stockman instagram update.\\n\\n📎 :...</td>\n      <td>📸\\n\\nShawn Stockman instagram update\\n\\n📎   \\n...</td>\n      <td>📸\\n\\nShawn Stockman instagram update.\\n\\n📎   \\...</td>\n      <td>\\n\\nShawn Stockman instagram update\\n\\n   \\n\\n...</td>\n      <td>\\n\\nShawn Stockman instagram update.\\n\\n   \\n\\...</td>\n      <td>\\n\\nshawn stockman instagram update\\n\\n   \\n\\n...</td>\n      <td>\\n\\nshawn stockman instagram update.\\n\\n   \\n\\...</td>\n      <td>[shawn, stockman, instagram, update, btsxamas,...</td>\n      <td>[shawn, stockman, instagram, update, ., 방탄소년단]</td>\n      <td>Sentence: \"shawn stockman instagram update bts...</td>\n      <td>shawn_PROPN stockman_PROPN instagram_PROPN upd...</td>\n    </tr>\n  </tbody>\n</table>\n</div>"
     },
     "execution_count": 17,
     "metadata": {},
     "output_type": "execute_result"
    }
   ],
   "source": [
    "import pandas as pd\n",
    "\n",
    "tweets_df = pd.read_json('../dataset/tweet-processed.json', orient='index')\n",
    "tweets_df.head()"
   ]
  },
  {
   "cell_type": "code",
   "execution_count": 18,
   "outputs": [
    {
     "data": {
      "text/plain": "   emotion                                           raw_text  \\\n2        h  i love them 😭\\n\\n#AMAsTNT BTS @BTS_twt\\n\\nhttp...   \n8        s  Wtf!? This is much more clearer than the broad...   \n10       h  the fact that JK didn’t even blink whilst he w...   \n13       h  CONGRATS to #BTS for winning the ' #SongOfTheY...   \n18       h  the moment @BTS_twt won best pop song for butt...   \n\n                                    1st_clean_twitter  \\\n2           i love them 😭\\n\\n AMAsTNT BTS BTS_twt\\n\\n   \n8   Wtf!? This is much more clearer than the broad...   \n10  the fact that JK didn’t even blink whilst he w...   \n13  CONGRATS to  BTS for winning the '  SongOfTheY...   \n18  the moment BTS_twt won best pop song for butte...   \n\n                             1st_clean_twitter_gensim  \\\n2                          i love them 😭\\n\\n BTS \\n\\n   \n8   Wtf!? This is much more clearer than the broad...   \n10  the fact that JK didn’t even blink whilst he w...   \n13  CONGRATS to  for winning the '  ' DAESANG \\nFo...   \n18        the moment  won best pop song for butter      \n\n                                      2nd_punctuation  \\\n2            i love them 😭\\n\\n AMAsTNT BTS BTStwt\\n\\n   \n8   Wtf This is much more clearer than the broadca...   \n10  the fact that JK didn't even blink whilst he w...   \n13  CONGRATS to  BTS for winning the   SongOfTheYe...   \n18  the moment BTStwt won best pop song for butter...   \n\n                               2nd_punctuation_gensim  \\\n2                          i love them 😭\\n\\n BTS \\n\\n   \n8   Wtf!? This is much more clearer than the broad...   \n10  the fact that JK didn't even blink whilst he w...   \n13  CONGRATS to  for winning the    DAESANG \\nFor ...   \n18        the moment  won best pop song for butter      \n\n                                            3rd_emoji  \\\n2             i love them \\n\\n AMAsTNT BTS BTStwt\\n\\n   \n8   Wtf This is much more clearer than the broadca...   \n10  the fact that JK didn't even blink whilst he w...   \n13  CONGRATS to  BTS for winning the   SongOfTheYe...   \n18  the moment BTStwt won best pop song for butter...   \n\n                                     3rd_emoji_gensim  \\\n2                           i love them \\n\\n BTS \\n\\n   \n8   Wtf!? This is much more clearer than the broad...   \n10  the fact that JK didn't even blink whilst he w...   \n13  CONGRATS to  for winning the    DAESANG \\nFor ...   \n18        the moment  won best pop song for butter      \n\n                                            4th_lower  \\\n2             i love them \\n\\n amastnt bts btstwt\\n\\n   \n8   wtf this is much more clearer than the broadca...   \n10  the fact that jk didn't even blink whilst he w...   \n13  congrats to  bts for winning the   songoftheye...   \n18  the moment btstwt won best pop song for butter...   \n\n                                     4th_lower_gensim  \\\n2                           i love them \\n\\n bts \\n\\n   \n8   wtf!? this is much more clearer than the broad...   \n10  the fact that jk didn't even blink whilst he w...   \n13  congrats to  for winning the    daesang \\nfor ...   \n18        the moment  won best pop song for butter      \n\n                                        5th_tokenized  \\\n2               [i, love, them, amastnt, bts, btstwt]   \n8   [wtf, this, is, much, more, clearer, than, the...   \n10  [the, fact, that, jk, did, n't, even, blink, w...   \n13  [congrats, to, bts, for, winning, the, songoft...   \n18  [the, moment, btstwt, won, best, pop, song, fo...   \n\n                                 5th_tokenized_gensim  \\\n2                                [i, love, them, bts]   \n8   [wtf, !, ?, this, is, much, more, clearer, tha...   \n10  [the, fact, that, jk, did, n't, even, blink, w...   \n13  [congrats, to, for, winning, the, daesang, for...   \n18   [the, moment, won, best, pop, song, for, butter]   \n\n                                             sentence  \\\n2   Sentence: \"i love them amastnt bts btstwt\"   [...   \n8   Sentence: \"wtf this is much more clearer than ...   \n10  Sentence: \"the fact that jk did n't even blink...   \n13  Sentence: \"congrats to bts for winning the son...   \n18  Sentence: \"the moment btstwt won best pop song...   \n\n                                             6_tagged  \n2   i_PROPN love_PROPN them_PROPN amastnt_PROPN bt...  \n8   wtf_PROPN this_PROPN is_PROPN much_PROPN more_...  \n10  the_PROPN fact_PROPN that_PROPN jk_PROPN did_P...  \n13  congrats_PROPN to_PROPN bts_PROPN for_PROPN wi...  \n18  the_PROPN moment_PROPN btstwt_PROPN won_PROPN ...  ",
      "text/html": "<div>\n<style scoped>\n    .dataframe tbody tr th:only-of-type {\n        vertical-align: middle;\n    }\n\n    .dataframe tbody tr th {\n        vertical-align: top;\n    }\n\n    .dataframe thead th {\n        text-align: right;\n    }\n</style>\n<table border=\"1\" class=\"dataframe\">\n  <thead>\n    <tr style=\"text-align: right;\">\n      <th></th>\n      <th>emotion</th>\n      <th>raw_text</th>\n      <th>1st_clean_twitter</th>\n      <th>1st_clean_twitter_gensim</th>\n      <th>2nd_punctuation</th>\n      <th>2nd_punctuation_gensim</th>\n      <th>3rd_emoji</th>\n      <th>3rd_emoji_gensim</th>\n      <th>4th_lower</th>\n      <th>4th_lower_gensim</th>\n      <th>5th_tokenized</th>\n      <th>5th_tokenized_gensim</th>\n      <th>sentence</th>\n      <th>6_tagged</th>\n    </tr>\n  </thead>\n  <tbody>\n    <tr>\n      <th>2</th>\n      <td>h</td>\n      <td>i love them 😭\\n\\n#AMAsTNT BTS @BTS_twt\\n\\nhttp...</td>\n      <td>i love them 😭\\n\\n AMAsTNT BTS BTS_twt\\n\\n</td>\n      <td>i love them 😭\\n\\n BTS \\n\\n</td>\n      <td>i love them 😭\\n\\n AMAsTNT BTS BTStwt\\n\\n</td>\n      <td>i love them 😭\\n\\n BTS \\n\\n</td>\n      <td>i love them \\n\\n AMAsTNT BTS BTStwt\\n\\n</td>\n      <td>i love them \\n\\n BTS \\n\\n</td>\n      <td>i love them \\n\\n amastnt bts btstwt\\n\\n</td>\n      <td>i love them \\n\\n bts \\n\\n</td>\n      <td>[i, love, them, amastnt, bts, btstwt]</td>\n      <td>[i, love, them, bts]</td>\n      <td>Sentence: \"i love them amastnt bts btstwt\"   [...</td>\n      <td>i_PROPN love_PROPN them_PROPN amastnt_PROPN bt...</td>\n    </tr>\n    <tr>\n      <th>8</th>\n      <td>s</td>\n      <td>Wtf!? This is much more clearer than the broad...</td>\n      <td>Wtf!? This is much more clearer than the broad...</td>\n      <td>Wtf!? This is much more clearer than the broad...</td>\n      <td>Wtf This is much more clearer than the broadca...</td>\n      <td>Wtf!? This is much more clearer than the broad...</td>\n      <td>Wtf This is much more clearer than the broadca...</td>\n      <td>Wtf!? This is much more clearer than the broad...</td>\n      <td>wtf this is much more clearer than the broadca...</td>\n      <td>wtf!? this is much more clearer than the broad...</td>\n      <td>[wtf, this, is, much, more, clearer, than, the...</td>\n      <td>[wtf, !, ?, this, is, much, more, clearer, tha...</td>\n      <td>Sentence: \"wtf this is much more clearer than ...</td>\n      <td>wtf_PROPN this_PROPN is_PROPN much_PROPN more_...</td>\n    </tr>\n    <tr>\n      <th>10</th>\n      <td>h</td>\n      <td>the fact that JK didn’t even blink whilst he w...</td>\n      <td>the fact that JK didn’t even blink whilst he w...</td>\n      <td>the fact that JK didn’t even blink whilst he w...</td>\n      <td>the fact that JK didn't even blink whilst he w...</td>\n      <td>the fact that JK didn't even blink whilst he w...</td>\n      <td>the fact that JK didn't even blink whilst he w...</td>\n      <td>the fact that JK didn't even blink whilst he w...</td>\n      <td>the fact that jk didn't even blink whilst he w...</td>\n      <td>the fact that jk didn't even blink whilst he w...</td>\n      <td>[the, fact, that, jk, did, n't, even, blink, w...</td>\n      <td>[the, fact, that, jk, did, n't, even, blink, w...</td>\n      <td>Sentence: \"the fact that jk did n't even blink...</td>\n      <td>the_PROPN fact_PROPN that_PROPN jk_PROPN did_P...</td>\n    </tr>\n    <tr>\n      <th>13</th>\n      <td>h</td>\n      <td>CONGRATS to #BTS for winning the ' #SongOfTheY...</td>\n      <td>CONGRATS to  BTS for winning the '  SongOfTheY...</td>\n      <td>CONGRATS to  for winning the '  ' DAESANG \\nFo...</td>\n      <td>CONGRATS to  BTS for winning the   SongOfTheYe...</td>\n      <td>CONGRATS to  for winning the    DAESANG \\nFor ...</td>\n      <td>CONGRATS to  BTS for winning the   SongOfTheYe...</td>\n      <td>CONGRATS to  for winning the    DAESANG \\nFor ...</td>\n      <td>congrats to  bts for winning the   songoftheye...</td>\n      <td>congrats to  for winning the    daesang \\nfor ...</td>\n      <td>[congrats, to, bts, for, winning, the, songoft...</td>\n      <td>[congrats, to, for, winning, the, daesang, for...</td>\n      <td>Sentence: \"congrats to bts for winning the son...</td>\n      <td>congrats_PROPN to_PROPN bts_PROPN for_PROPN wi...</td>\n    </tr>\n    <tr>\n      <th>18</th>\n      <td>h</td>\n      <td>the moment @BTS_twt won best pop song for butt...</td>\n      <td>the moment BTS_twt won best pop song for butte...</td>\n      <td>the moment  won best pop song for butter</td>\n      <td>the moment BTStwt won best pop song for butter...</td>\n      <td>the moment  won best pop song for butter</td>\n      <td>the moment BTStwt won best pop song for butter...</td>\n      <td>the moment  won best pop song for butter</td>\n      <td>the moment btstwt won best pop song for butter...</td>\n      <td>the moment  won best pop song for butter</td>\n      <td>[the, moment, btstwt, won, best, pop, song, fo...</td>\n      <td>[the, moment, won, best, pop, song, for, butter]</td>\n      <td>Sentence: \"the moment btstwt won best pop song...</td>\n      <td>the_PROPN moment_PROPN btstwt_PROPN won_PROPN ...</td>\n    </tr>\n  </tbody>\n</table>\n</div>"
     },
     "execution_count": 18,
     "metadata": {},
     "output_type": "execute_result"
    }
   ],
   "source": [
    "# dropna\n",
    "tweets_df.dropna(inplace=True)\n",
    "tweets_df.head()"
   ],
   "metadata": {
    "collapsed": false,
    "pycharm": {
     "name": "#%%\n"
    }
   }
  },
  {
   "cell_type": "code",
   "execution_count": 19,
   "outputs": [
    {
     "data": {
      "text/plain": "   emotion                                           raw_text  \\\n2        h  i love them 😭\\n\\n#AMAsTNT BTS @BTS_twt\\n\\nhttp...   \n8        s  Wtf!? This is much more clearer than the broad...   \n10       h  the fact that JK didn’t even blink whilst he w...   \n13       h  CONGRATS to #BTS for winning the ' #SongOfTheY...   \n18       h  the moment @BTS_twt won best pop song for butt...   \n\n                                    1st_clean_twitter  \\\n2           i love them 😭\\n\\n AMAsTNT BTS BTS_twt\\n\\n   \n8   Wtf!? This is much more clearer than the broad...   \n10  the fact that JK didn’t even blink whilst he w...   \n13  CONGRATS to  BTS for winning the '  SongOfTheY...   \n18  the moment BTS_twt won best pop song for butte...   \n\n                             1st_clean_twitter_gensim  \\\n2                          i love them 😭\\n\\n BTS \\n\\n   \n8   Wtf!? This is much more clearer than the broad...   \n10  the fact that JK didn’t even blink whilst he w...   \n13  CONGRATS to  for winning the '  ' DAESANG \\nFo...   \n18        the moment  won best pop song for butter      \n\n                                      2nd_punctuation  \\\n2            i love them 😭\\n\\n AMAsTNT BTS BTStwt\\n\\n   \n8   Wtf This is much more clearer than the broadca...   \n10  the fact that JK didn't even blink whilst he w...   \n13  CONGRATS to  BTS for winning the   SongOfTheYe...   \n18  the moment BTStwt won best pop song for butter...   \n\n                               2nd_punctuation_gensim  \\\n2                          i love them 😭\\n\\n BTS \\n\\n   \n8   Wtf!? This is much more clearer than the broad...   \n10  the fact that JK didn't even blink whilst he w...   \n13  CONGRATS to  for winning the    DAESANG \\nFor ...   \n18        the moment  won best pop song for butter      \n\n                                            3rd_emoji  \\\n2             i love them \\n\\n AMAsTNT BTS BTStwt\\n\\n   \n8   Wtf This is much more clearer than the broadca...   \n10  the fact that JK didn't even blink whilst he w...   \n13  CONGRATS to  BTS for winning the   SongOfTheYe...   \n18  the moment BTStwt won best pop song for butter...   \n\n                                     3rd_emoji_gensim  \\\n2                           i love them \\n\\n BTS \\n\\n   \n8   Wtf!? This is much more clearer than the broad...   \n10  the fact that JK didn't even blink whilst he w...   \n13  CONGRATS to  for winning the    DAESANG \\nFor ...   \n18        the moment  won best pop song for butter      \n\n                                            4th_lower  \\\n2             i love them \\n\\n amastnt bts btstwt\\n\\n   \n8   wtf this is much more clearer than the broadca...   \n10  the fact that jk didn't even blink whilst he w...   \n13  congrats to  bts for winning the   songoftheye...   \n18  the moment btstwt won best pop song for butter...   \n\n                                     4th_lower_gensim  \\\n2                           i love them \\n\\n bts \\n\\n   \n8   wtf!? this is much more clearer than the broad...   \n10  the fact that jk didn't even blink whilst he w...   \n13  congrats to  for winning the    daesang \\nfor ...   \n18        the moment  won best pop song for butter      \n\n                                        5th_tokenized  \\\n2               [i, love, them, amastnt, bts, btstwt]   \n8   [wtf, this, is, much, more, clearer, than, the...   \n10  [the, fact, that, jk, did, n't, even, blink, w...   \n13  [congrats, to, bts, for, winning, the, songoft...   \n18  [the, moment, btstwt, won, best, pop, song, fo...   \n\n                                 5th_tokenized_gensim  \\\n2                                [i, love, them, bts]   \n8   [wtf, !, ?, this, is, much, more, clearer, tha...   \n10  [the, fact, that, jk, did, n't, even, blink, w...   \n13  [congrats, to, for, winning, the, daesang, for...   \n18   [the, moment, won, best, pop, song, for, butter]   \n\n                                             sentence  \\\n2   Sentence: \"i love them amastnt bts btstwt\"   [...   \n8   Sentence: \"wtf this is much more clearer than ...   \n10  Sentence: \"the fact that jk did n't even blink...   \n13  Sentence: \"congrats to bts for winning the son...   \n18  Sentence: \"the moment btstwt won best pop song...   \n\n                                             6_tagged  \n2   i_PROPN love_PROPN them_PROPN amastnt_PROPN bt...  \n8   wtf_PROPN this_PROPN is_PROPN much_PROPN more_...  \n10  the_PROPN fact_PROPN that_PROPN jk_PROPN did_P...  \n13  congrats_PROPN to_PROPN bts_PROPN for_PROPN wi...  \n18  the_PROPN moment_PROPN btstwt_PROPN won_PROPN ...  ",
      "text/html": "<div>\n<style scoped>\n    .dataframe tbody tr th:only-of-type {\n        vertical-align: middle;\n    }\n\n    .dataframe tbody tr th {\n        vertical-align: top;\n    }\n\n    .dataframe thead th {\n        text-align: right;\n    }\n</style>\n<table border=\"1\" class=\"dataframe\">\n  <thead>\n    <tr style=\"text-align: right;\">\n      <th></th>\n      <th>emotion</th>\n      <th>raw_text</th>\n      <th>1st_clean_twitter</th>\n      <th>1st_clean_twitter_gensim</th>\n      <th>2nd_punctuation</th>\n      <th>2nd_punctuation_gensim</th>\n      <th>3rd_emoji</th>\n      <th>3rd_emoji_gensim</th>\n      <th>4th_lower</th>\n      <th>4th_lower_gensim</th>\n      <th>5th_tokenized</th>\n      <th>5th_tokenized_gensim</th>\n      <th>sentence</th>\n      <th>6_tagged</th>\n    </tr>\n  </thead>\n  <tbody>\n    <tr>\n      <th>2</th>\n      <td>h</td>\n      <td>i love them 😭\\n\\n#AMAsTNT BTS @BTS_twt\\n\\nhttp...</td>\n      <td>i love them 😭\\n\\n AMAsTNT BTS BTS_twt\\n\\n</td>\n      <td>i love them 😭\\n\\n BTS \\n\\n</td>\n      <td>i love them 😭\\n\\n AMAsTNT BTS BTStwt\\n\\n</td>\n      <td>i love them 😭\\n\\n BTS \\n\\n</td>\n      <td>i love them \\n\\n AMAsTNT BTS BTStwt\\n\\n</td>\n      <td>i love them \\n\\n BTS \\n\\n</td>\n      <td>i love them \\n\\n amastnt bts btstwt\\n\\n</td>\n      <td>i love them \\n\\n bts \\n\\n</td>\n      <td>[i, love, them, amastnt, bts, btstwt]</td>\n      <td>[i, love, them, bts]</td>\n      <td>Sentence: \"i love them amastnt bts btstwt\"   [...</td>\n      <td>i_PROPN love_PROPN them_PROPN amastnt_PROPN bt...</td>\n    </tr>\n    <tr>\n      <th>8</th>\n      <td>s</td>\n      <td>Wtf!? This is much more clearer than the broad...</td>\n      <td>Wtf!? This is much more clearer than the broad...</td>\n      <td>Wtf!? This is much more clearer than the broad...</td>\n      <td>Wtf This is much more clearer than the broadca...</td>\n      <td>Wtf!? This is much more clearer than the broad...</td>\n      <td>Wtf This is much more clearer than the broadca...</td>\n      <td>Wtf!? This is much more clearer than the broad...</td>\n      <td>wtf this is much more clearer than the broadca...</td>\n      <td>wtf!? this is much more clearer than the broad...</td>\n      <td>[wtf, this, is, much, more, clearer, than, the...</td>\n      <td>[wtf, !, ?, this, is, much, more, clearer, tha...</td>\n      <td>Sentence: \"wtf this is much more clearer than ...</td>\n      <td>wtf_PROPN this_PROPN is_PROPN much_PROPN more_...</td>\n    </tr>\n    <tr>\n      <th>10</th>\n      <td>h</td>\n      <td>the fact that JK didn’t even blink whilst he w...</td>\n      <td>the fact that JK didn’t even blink whilst he w...</td>\n      <td>the fact that JK didn’t even blink whilst he w...</td>\n      <td>the fact that JK didn't even blink whilst he w...</td>\n      <td>the fact that JK didn't even blink whilst he w...</td>\n      <td>the fact that JK didn't even blink whilst he w...</td>\n      <td>the fact that JK didn't even blink whilst he w...</td>\n      <td>the fact that jk didn't even blink whilst he w...</td>\n      <td>the fact that jk didn't even blink whilst he w...</td>\n      <td>[the, fact, that, jk, did, n't, even, blink, w...</td>\n      <td>[the, fact, that, jk, did, n't, even, blink, w...</td>\n      <td>Sentence: \"the fact that jk did n't even blink...</td>\n      <td>the_PROPN fact_PROPN that_PROPN jk_PROPN did_P...</td>\n    </tr>\n    <tr>\n      <th>13</th>\n      <td>h</td>\n      <td>CONGRATS to #BTS for winning the ' #SongOfTheY...</td>\n      <td>CONGRATS to  BTS for winning the '  SongOfTheY...</td>\n      <td>CONGRATS to  for winning the '  ' DAESANG \\nFo...</td>\n      <td>CONGRATS to  BTS for winning the   SongOfTheYe...</td>\n      <td>CONGRATS to  for winning the    DAESANG \\nFor ...</td>\n      <td>CONGRATS to  BTS for winning the   SongOfTheYe...</td>\n      <td>CONGRATS to  for winning the    DAESANG \\nFor ...</td>\n      <td>congrats to  bts for winning the   songoftheye...</td>\n      <td>congrats to  for winning the    daesang \\nfor ...</td>\n      <td>[congrats, to, bts, for, winning, the, songoft...</td>\n      <td>[congrats, to, for, winning, the, daesang, for...</td>\n      <td>Sentence: \"congrats to bts for winning the son...</td>\n      <td>congrats_PROPN to_PROPN bts_PROPN for_PROPN wi...</td>\n    </tr>\n    <tr>\n      <th>18</th>\n      <td>h</td>\n      <td>the moment @BTS_twt won best pop song for butt...</td>\n      <td>the moment BTS_twt won best pop song for butte...</td>\n      <td>the moment  won best pop song for butter</td>\n      <td>the moment BTStwt won best pop song for butter...</td>\n      <td>the moment  won best pop song for butter</td>\n      <td>the moment BTStwt won best pop song for butter...</td>\n      <td>the moment  won best pop song for butter</td>\n      <td>the moment btstwt won best pop song for butter...</td>\n      <td>the moment  won best pop song for butter</td>\n      <td>[the, moment, btstwt, won, best, pop, song, fo...</td>\n      <td>[the, moment, won, best, pop, song, for, butter]</td>\n      <td>Sentence: \"the moment btstwt won best pop song...</td>\n      <td>the_PROPN moment_PROPN btstwt_PROPN won_PROPN ...</td>\n    </tr>\n  </tbody>\n</table>\n</div>"
     },
     "execution_count": 19,
     "metadata": {},
     "output_type": "execute_result"
    }
   ],
   "source": [
    "# Removing neutral\n",
    "tweets_df = tweets_df[tweets_df['emotion'] != 'n']\n",
    "tweets_df.head()"
   ],
   "metadata": {
    "collapsed": false,
    "pycharm": {
     "name": "#%%\n"
    }
   }
  },
  {
   "cell_type": "code",
   "execution_count": 20,
   "outputs": [
    {
     "name": "stdout",
     "output_type": "stream",
     "text": [
      "Word mean\t: 97.9908256880734 \n",
      "Word min\t: 7 \n",
      "Word max\t: 279\n"
     ]
    }
   ],
   "source": [
    "# Finding out length\n",
    "word_counts = tweets_df['4th_lower_gensim'].apply(len)\n",
    "\n",
    "word_mean = word_counts.mean()\n",
    "word_min = word_counts.min()\n",
    "word_max = word_counts.max()\n",
    "\n",
    "print('Word mean\\t:', word_mean,\n",
    "      '\\nWord min\\t:', word_min,\n",
    "      '\\nWord max\\t:', word_max)"
   ],
   "metadata": {
    "collapsed": false,
    "pycharm": {
     "name": "#%%\n"
    }
   }
  },
  {
   "cell_type": "markdown",
   "source": [
    "Temporary verdict:\n",
    "We will be using 20."
   ],
   "metadata": {
    "collapsed": false
   }
  },
  {
   "cell_type": "code",
   "execution_count": 21,
   "outputs": [],
   "source": [
    "# Train-test split\n",
    "from sklearn.model_selection import train_test_split\n",
    "\n",
    "sentence_train, sentence_valid, emotion_train, emotion_valid = train_test_split(tweets_df['4th_lower_gensim'], tweets_df['emotion'], test_size=0.3, random_state=42)"
   ],
   "metadata": {
    "collapsed": false,
    "pycharm": {
     "name": "#%%\n"
    }
   }
  },
  {
   "cell_type": "code",
   "execution_count": 22,
   "outputs": [
    {
     "data": {
      "text/plain": "<AxesSubplot:xlabel='emotion', ylabel='Count'>"
     },
     "execution_count": 22,
     "metadata": {},
     "output_type": "execute_result"
    },
    {
     "data": {
      "text/plain": "<Figure size 432x288 with 1 Axes>",
      "image/png": "[encoded data removed]"
     },
     "metadata": {
      "needs_background": "light"
     },
     "output_type": "display_data"
    }
   ],
   "source": [
    "import seaborn as sns\n",
    "\n",
    "sns.histplot(emotion_train)"
   ],
   "metadata": {
    "collapsed": false,
    "pycharm": {
     "name": "#%%\n"
    }
   }
  },
  {
   "cell_type": "code",
   "execution_count": 23,
   "outputs": [
    {
     "data": {
      "text/plain": "<AxesSubplot:xlabel='emotion', ylabel='Count'>"
     },
     "execution_count": 23,
     "metadata": {},
     "output_type": "execute_result"
    },
    {
     "data": {
      "text/plain": "<Figure size 432x288 with 1 Axes>",
      "image/png": "[encoded data removed]"
     },
     "metadata": {
      "needs_background": "light"
     },
     "output_type": "display_data"
    }
   ],
   "source": [
    "sns.histplot(emotion_valid)"
   ],
   "metadata": {
    "collapsed": false,
    "pycharm": {
     "name": "#%%\n"
    }
   }
  },
  {
   "cell_type": "markdown",
   "source": [
    "Temporary verdict: both training and validation data is balanced, except for happy. We are probably going to use confusion matrix."
   ],
   "metadata": {
    "collapsed": false
   }
  },
  {
   "cell_type": "code",
   "execution_count": 24,
   "outputs": [],
   "source": [
    "# Tokenizer and Pad Sequence variables\n",
    "max_length = 40\n",
    "trunc_type = 'post'\n",
    "padding = 'post'"
   ],
   "metadata": {
    "collapsed": false,
    "pycharm": {
     "name": "#%%\n"
    }
   }
  },
  {
   "cell_type": "code",
   "execution_count": 25,
   "outputs": [],
   "source": [
    "import tensorflow as tf\n",
    "\n",
    "tokenizer = tf.keras.preprocessing.text.Tokenizer(\n",
    "      oov_token='<OOV>'\n",
    ")\n",
    "tokenizer.fit_on_texts(sentence_train)"
   ],
   "metadata": {
    "collapsed": false,
    "pycharm": {
     "name": "#%%\n"
    }
   }
  },
  {
   "cell_type": "code",
   "execution_count": 26,
   "outputs": [],
   "source": [
    "num_sequence_train = tokenizer.texts_to_sequences(sentence_train)\n",
    "num_sequence_valid = tokenizer.texts_to_sequences(sentence_valid)"
   ],
   "metadata": {
    "collapsed": false,
    "pycharm": {
     "name": "#%%\n"
    }
   }
  },
  {
   "cell_type": "code",
   "execution_count": 27,
   "outputs": [],
   "source": [
    "pad_sequence_train = tf.keras.preprocessing.sequence.pad_sequences(num_sequence_train, maxlen=max_length, padding=padding, truncating=trunc_type)\n",
    "pad_sequence_valid = tf.keras.preprocessing.sequence.pad_sequences(num_sequence_valid, maxlen=max_length, padding=padding, truncating=trunc_type)"
   ],
   "metadata": {
    "collapsed": false,
    "pycharm": {
     "name": "#%%\n"
    }
   }
  },
  {
   "cell_type": "code",
   "execution_count": 13,
   "outputs": [],
   "source": [
    "# def build_model(vocab_size, hidden_size=1, hidden_layer=tf.keras.layers.Dense, neurons=8, optimizer=tf.keras.optimizers.Adam(), loss=tf.keras.losses.CategoricalCrossentropy()):\n",
    "#       _model = tf.keras.Sequential()\n",
    "#       _model.add(tf.keras.layers.Embedding(vocab_size, 16, input_length=max_length))\n",
    "#       for i in range(hidden_size):\n",
    "#             if (hidden_layer == tf.keras.layers.LSTM) or hidden_layer == tf.keras.layers.Bidirectional:\n",
    "#                   if i != hidden_size-1 and i > 1:\n",
    "#                         _model.add(hidden_layer(neurons, return_sequence=True))\n",
    "#                   else:\n",
    "#                         _model.add(tf.keras.layers.LSTM(neurons))\n",
    "#             elif hidden_layer == tf.keras.layers.Dense:\n",
    "#                   _model.add(tf.keras.layers.Dense(neurons))\n",
    "#       _model.add(tf.keras.layers.Dense(10, activation=tf.nn.softmax))\n",
    "#\n",
    "#       _model.compile(optimizer=optimizer, loss=loss, metrics=['accuracy'])\n",
    "#\n",
    "#       return _model"
   ],
   "metadata": {
    "collapsed": false,
    "pycharm": {
     "name": "#%%\n"
    }
   }
  },
  {
   "cell_type": "code",
   "execution_count": 28,
   "outputs": [],
   "source": [
    "# model = build_model(len(tokenizer.word_index), hidden_size=1, hidden_layer=tf.keras.layers.LSTM, neurons=64, optimizer=tf.keras.optimizers.Adam())\n",
    "\n",
    "model = tf.keras.Sequential([\n",
    "      tf.keras.layers.Embedding(len(tokenizer.word_index), 16, input_length=max_length),\n",
    "      tf.keras.layers.Bidirectional(tf.keras.layers.LSTM(128, return_sequences=True)),\n",
    "      tf.keras.layers.Bidirectional(tf.keras.layers.LSTM(64)),\n",
    "      tf.keras.layers.Dense(9, activation=tf.nn.softmax)\n",
    "])\n",
    "\n",
    "model.compile(optimizer=tf.keras.optimizers.Adam(learning_rate=1e-4), loss=tf.keras.losses.CategoricalCrossentropy(), metrics=['accuracy'])\n"
   ],
   "metadata": {
    "collapsed": false,
    "pycharm": {
     "name": "#%%\n"
    }
   }
  },
  {
   "cell_type": "code",
   "execution_count": 29,
   "outputs": [
    {
     "name": "stdout",
     "output_type": "stream",
     "text": [
      "Epoch 1/100\n",
      "16/16 [==============================] - 8s 141ms/step - loss: 2.1818 - accuracy: 0.4244 - val_loss: 2.1632 - val_accuracy: 0.4329\n",
      "Epoch 2/100\n",
      "16/16 [==============================] - 1s 32ms/step - loss: 2.1296 - accuracy: 0.4951 - val_loss: 2.1016 - val_accuracy: 0.4329\n",
      "Epoch 3/100\n",
      "16/16 [==============================] - 1s 33ms/step - loss: 2.0266 - accuracy: 0.4565 - val_loss: 1.9365 - val_accuracy: 0.4329\n",
      "Epoch 4/100\n",
      "16/16 [==============================] - 1s 39ms/step - loss: 1.8206 - accuracy: 0.4774 - val_loss: 1.8943 - val_accuracy: 0.4329\n",
      "Epoch 5/100\n",
      "16/16 [==============================] - 1s 36ms/step - loss: 1.8048 - accuracy: 0.4676 - val_loss: 1.8573 - val_accuracy: 0.4329\n",
      "Epoch 6/100\n",
      "16/16 [==============================] - 1s 34ms/step - loss: 1.8086 - accuracy: 0.4565 - val_loss: 1.8577 - val_accuracy: 0.4329\n",
      "Epoch 7/100\n",
      "16/16 [==============================] - 1s 36ms/step - loss: 1.7617 - accuracy: 0.4774 - val_loss: 1.8593 - val_accuracy: 0.4329\n",
      "Epoch 8/100\n",
      "16/16 [==============================] - 1s 39ms/step - loss: 1.7980 - accuracy: 0.4538 - val_loss: 1.8515 - val_accuracy: 0.4329\n",
      "Epoch 9/100\n",
      "16/16 [==============================] - 1s 34ms/step - loss: 1.7687 - accuracy: 0.4704 - val_loss: 1.8573 - val_accuracy: 0.4329\n",
      "Epoch 10/100\n",
      "16/16 [==============================] - 1s 33ms/step - loss: 1.7959 - accuracy: 0.4479 - val_loss: 1.8480 - val_accuracy: 0.4329\n",
      "Epoch 11/100\n",
      "16/16 [==============================] - 0s 31ms/step - loss: 1.7321 - accuracy: 0.4774 - val_loss: 1.8466 - val_accuracy: 0.4329\n",
      "Epoch 12/100\n",
      "16/16 [==============================] - 1s 32ms/step - loss: 1.7186 - accuracy: 0.4763 - val_loss: 1.8393 - val_accuracy: 0.4329\n",
      "Epoch 13/100\n",
      "16/16 [==============================] - 0s 31ms/step - loss: 1.7013 - accuracy: 0.4715 - val_loss: 1.8356 - val_accuracy: 0.4329\n",
      "Epoch 14/100\n",
      "16/16 [==============================] - 0s 31ms/step - loss: 1.6809 - accuracy: 0.4460 - val_loss: 1.7903 - val_accuracy: 0.4390\n",
      "Epoch 15/100\n",
      "16/16 [==============================] - 0s 31ms/step - loss: 1.4573 - accuracy: 0.5079 - val_loss: 1.7857 - val_accuracy: 0.4634\n",
      "Epoch 16/100\n",
      "16/16 [==============================] - 0s 31ms/step - loss: 1.2990 - accuracy: 0.5167 - val_loss: 1.8857 - val_accuracy: 0.3963\n",
      "Epoch 17/100\n",
      "16/16 [==============================] - 0s 31ms/step - loss: 1.2632 - accuracy: 0.5344 - val_loss: 1.9330 - val_accuracy: 0.3902\n",
      "Epoch 18/100\n",
      "16/16 [==============================] - 0s 32ms/step - loss: 1.2441 - accuracy: 0.5435 - val_loss: 1.9055 - val_accuracy: 0.3780\n",
      "Epoch 19/100\n",
      "16/16 [==============================] - 0s 31ms/step - loss: 1.1839 - accuracy: 0.5521 - val_loss: 1.9353 - val_accuracy: 0.3659\n",
      "Epoch 20/100\n",
      "16/16 [==============================] - 1s 33ms/step - loss: 1.1564 - accuracy: 0.5422 - val_loss: 1.9757 - val_accuracy: 0.3537\n",
      "Epoch 21/100\n",
      "16/16 [==============================] - 1s 33ms/step - loss: 1.1469 - accuracy: 0.5553 - val_loss: 2.0190 - val_accuracy: 0.3598\n",
      "Epoch 22/100\n",
      "16/16 [==============================] - 1s 34ms/step - loss: 1.1694 - accuracy: 0.5305 - val_loss: 2.1181 - val_accuracy: 0.3598\n",
      "Epoch 23/100\n",
      "16/16 [==============================] - 1s 33ms/step - loss: 1.0655 - accuracy: 0.5874 - val_loss: 2.1896 - val_accuracy: 0.3720\n",
      "Epoch 24/100\n",
      "16/16 [==============================] - 1s 35ms/step - loss: 1.1432 - accuracy: 0.5514 - val_loss: 2.1215 - val_accuracy: 0.3659\n",
      "Epoch 25/100\n",
      "16/16 [==============================] - 1s 34ms/step - loss: 1.0928 - accuracy: 0.6031 - val_loss: 2.1413 - val_accuracy: 0.3720\n",
      "Epoch 26/100\n",
      "16/16 [==============================] - 1s 39ms/step - loss: 1.0463 - accuracy: 0.6012 - val_loss: 2.1599 - val_accuracy: 0.3659\n",
      "Epoch 27/100\n",
      "16/16 [==============================] - 1s 32ms/step - loss: 1.0899 - accuracy: 0.6087 - val_loss: 2.2176 - val_accuracy: 0.3841\n",
      "Epoch 28/100\n",
      "16/16 [==============================] - 1s 32ms/step - loss: 1.0216 - accuracy: 0.6306 - val_loss: 2.2395 - val_accuracy: 0.3963\n",
      "Epoch 29/100\n",
      "16/16 [==============================] - 0s 31ms/step - loss: 1.0030 - accuracy: 0.6228 - val_loss: 2.2480 - val_accuracy: 0.3659\n",
      "Epoch 30/100\n",
      "16/16 [==============================] - 0s 31ms/step - loss: 0.9594 - accuracy: 0.6364 - val_loss: 2.3517 - val_accuracy: 0.3537\n",
      "Epoch 31/100\n",
      "16/16 [==============================] - 0s 30ms/step - loss: 0.9190 - accuracy: 0.6503 - val_loss: 2.4716 - val_accuracy: 0.3780\n",
      "Epoch 32/100\n",
      "16/16 [==============================] - 1s 32ms/step - loss: 0.8396 - accuracy: 0.6935 - val_loss: 2.6011 - val_accuracy: 0.3537\n",
      "Epoch 33/100\n",
      "16/16 [==============================] - 1s 32ms/step - loss: 0.7662 - accuracy: 0.7352 - val_loss: 2.7541 - val_accuracy: 0.3659\n",
      "Epoch 34/100\n",
      "16/16 [==============================] - 0s 31ms/step - loss: 0.6824 - accuracy: 0.7800 - val_loss: 2.8561 - val_accuracy: 0.3537\n",
      "Epoch 35/100\n",
      "16/16 [==============================] - 0s 31ms/step - loss: 0.6415 - accuracy: 0.7878 - val_loss: 2.9809 - val_accuracy: 0.3537\n",
      "Epoch 36/100\n",
      "16/16 [==============================] - 1s 32ms/step - loss: 0.5649 - accuracy: 0.8004 - val_loss: 3.0370 - val_accuracy: 0.3598\n",
      "Epoch 37/100\n",
      "16/16 [==============================] - 1s 33ms/step - loss: 0.5202 - accuracy: 0.8330 - val_loss: 3.0895 - val_accuracy: 0.3110\n",
      "Epoch 38/100\n",
      "16/16 [==============================] - 1s 34ms/step - loss: 0.5370 - accuracy: 0.8251 - val_loss: 3.1991 - val_accuracy: 0.3110\n",
      "Epoch 39/100\n",
      "16/16 [==============================] - 1s 34ms/step - loss: 0.5892 - accuracy: 0.7648 - val_loss: 3.0742 - val_accuracy: 0.3598\n",
      "Epoch 40/100\n",
      "16/16 [==============================] - 1s 34ms/step - loss: 0.5608 - accuracy: 0.7996 - val_loss: 3.1413 - val_accuracy: 0.3659\n",
      "Epoch 41/100\n",
      "16/16 [==============================] - 1s 35ms/step - loss: 0.4810 - accuracy: 0.8527 - val_loss: 3.1760 - val_accuracy: 0.3537\n",
      "Epoch 42/100\n",
      "16/16 [==============================] - 1s 34ms/step - loss: 0.4145 - accuracy: 0.8617 - val_loss: 3.2384 - val_accuracy: 0.3598\n",
      "Epoch 43/100\n",
      "16/16 [==============================] - 1s 34ms/step - loss: 0.3706 - accuracy: 0.8900 - val_loss: 3.3434 - val_accuracy: 0.3537\n",
      "Epoch 44/100\n",
      "16/16 [==============================] - 1s 36ms/step - loss: 0.3837 - accuracy: 0.8998 - val_loss: 3.3640 - val_accuracy: 0.3476\n",
      "Epoch 45/100\n",
      "16/16 [==============================] - 0s 31ms/step - loss: 0.3311 - accuracy: 0.9249 - val_loss: 3.4046 - val_accuracy: 0.3476\n",
      "Epoch 46/100\n",
      "16/16 [==============================] - 0s 31ms/step - loss: 0.3074 - accuracy: 0.9371 - val_loss: 3.4405 - val_accuracy: 0.3537\n",
      "Epoch 47/100\n",
      "16/16 [==============================] - 1s 33ms/step - loss: 0.3273 - accuracy: 0.9352 - val_loss: 3.4593 - val_accuracy: 0.3476\n",
      "Epoch 48/100\n",
      "16/16 [==============================] - 0s 31ms/step - loss: 0.2927 - accuracy: 0.9348 - val_loss: 3.4750 - val_accuracy: 0.3720\n",
      "Epoch 49/100\n",
      "16/16 [==============================] - 1s 32ms/step - loss: 0.2547 - accuracy: 0.9528 - val_loss: 3.5088 - val_accuracy: 0.3537\n",
      "Epoch 50/100\n",
      "16/16 [==============================] - 1s 32ms/step - loss: 0.3053 - accuracy: 0.9568 - val_loss: 3.5371 - val_accuracy: 0.3476\n",
      "Epoch 51/100\n",
      "16/16 [==============================] - 0s 31ms/step - loss: 0.2498 - accuracy: 0.9763 - val_loss: 3.5431 - val_accuracy: 0.3476\n",
      "Epoch 52/100\n",
      "16/16 [==============================] - 0s 31ms/step - loss: 0.2642 - accuracy: 0.9646 - val_loss: 3.5586 - val_accuracy: 0.3415\n",
      "Epoch 53/100\n",
      "16/16 [==============================] - 1s 33ms/step - loss: 0.2618 - accuracy: 0.9725 - val_loss: 3.5712 - val_accuracy: 0.3476\n",
      "Epoch 54/100\n",
      "16/16 [==============================] - 1s 35ms/step - loss: 0.2494 - accuracy: 0.9526 - val_loss: 3.5905 - val_accuracy: 0.3415\n",
      "Epoch 55/100\n",
      "16/16 [==============================] - 1s 35ms/step - loss: 0.2720 - accuracy: 0.9332 - val_loss: 3.6371 - val_accuracy: 0.3354\n",
      "Epoch 56/100\n",
      "16/16 [==============================] - 1s 34ms/step - loss: 0.2584 - accuracy: 0.9470 - val_loss: 3.6240 - val_accuracy: 0.3476\n",
      "Epoch 57/100\n",
      "16/16 [==============================] - 1s 34ms/step - loss: 0.2776 - accuracy: 0.9368 - val_loss: 3.6977 - val_accuracy: 0.3232\n",
      "Epoch 58/100\n",
      "16/16 [==============================] - 1s 36ms/step - loss: 0.3014 - accuracy: 0.9155 - val_loss: 3.6561 - val_accuracy: 0.3476\n",
      "Epoch 59/100\n",
      "16/16 [==============================] - 1s 35ms/step - loss: 0.3010 - accuracy: 0.9037 - val_loss: 3.7551 - val_accuracy: 0.3049\n",
      "Epoch 60/100\n",
      "16/16 [==============================] - 1s 37ms/step - loss: 0.3476 - accuracy: 0.8834 - val_loss: 3.6397 - val_accuracy: 0.3537\n",
      "Epoch 61/100\n",
      "16/16 [==============================] - 1s 33ms/step - loss: 0.2664 - accuracy: 0.9470 - val_loss: 3.6853 - val_accuracy: 0.3415\n",
      "Epoch 62/100\n",
      "16/16 [==============================] - 1s 32ms/step - loss: 0.2204 - accuracy: 0.9646 - val_loss: 3.6817 - val_accuracy: 0.3354\n",
      "Epoch 63/100\n",
      "16/16 [==============================] - 0s 31ms/step - loss: 0.2075 - accuracy: 0.9822 - val_loss: 3.7929 - val_accuracy: 0.3110\n",
      "Epoch 64/100\n",
      "16/16 [==============================] - 1s 32ms/step - loss: 0.1834 - accuracy: 0.9902 - val_loss: 3.7952 - val_accuracy: 0.3110\n",
      "Epoch 65/100\n",
      "16/16 [==============================] - 1s 33ms/step - loss: 0.1734 - accuracy: 0.9862 - val_loss: 3.7607 - val_accuracy: 0.3293\n",
      "Epoch 66/100\n",
      "16/16 [==============================] - 1s 32ms/step - loss: 0.1586 - accuracy: 0.9921 - val_loss: 3.8101 - val_accuracy: 0.3232\n",
      "Epoch 67/100\n",
      "16/16 [==============================] - 1s 32ms/step - loss: 0.1476 - accuracy: 0.9902 - val_loss: 3.8618 - val_accuracy: 0.3110\n",
      "Epoch 68/100\n",
      "16/16 [==============================] - 1s 32ms/step - loss: 0.1422 - accuracy: 0.9941 - val_loss: 3.8740 - val_accuracy: 0.3232\n",
      "Epoch 69/100\n",
      "16/16 [==============================] - 0s 30ms/step - loss: 0.1524 - accuracy: 0.9881 - val_loss: 3.8165 - val_accuracy: 0.3354\n",
      "Epoch 70/100\n",
      "16/16 [==============================] - 1s 32ms/step - loss: 0.1488 - accuracy: 0.9882 - val_loss: 3.8232 - val_accuracy: 0.3415\n",
      "Epoch 71/100\n",
      "16/16 [==============================] - 1s 34ms/step - loss: 0.1193 - accuracy: 0.9941 - val_loss: 3.8239 - val_accuracy: 0.3354\n",
      "Epoch 72/100\n",
      "16/16 [==============================] - 1s 33ms/step - loss: 0.1317 - accuracy: 0.9901 - val_loss: 3.9121 - val_accuracy: 0.3293\n",
      "Epoch 73/100\n",
      "16/16 [==============================] - 1s 35ms/step - loss: 0.1156 - accuracy: 0.9941 - val_loss: 3.9212 - val_accuracy: 0.3354\n",
      "Epoch 74/100\n",
      "16/16 [==============================] - 1s 35ms/step - loss: 0.1022 - accuracy: 0.9941 - val_loss: 3.9336 - val_accuracy: 0.3354\n",
      "Epoch 75/100\n",
      "16/16 [==============================] - 1s 35ms/step - loss: 0.1256 - accuracy: 0.9881 - val_loss: 3.9587 - val_accuracy: 0.3354\n",
      "Epoch 76/100\n",
      "WARNING:tensorflow:Your input ran out of data; interrupting training. Make sure that your dataset or generator can generate at least `steps_per_epoch * epochs` batches (in this case, 1600 batches). You may need to use the repeat() function when building your dataset.\n",
      "16/16 [==============================] - 0s 10ms/step - loss: 0.1256 - accuracy: 0.9881 - val_loss: 3.9587 - val_accuracy: 0.3354\n"
     ]
    }
   ],
   "source": [
    "history = model.fit(pad_sequence_train, pd.get_dummies(emotion_train).values, epochs=100, verbose=1, batch_size=32, steps_per_epoch=16, validation_data=(pad_sequence_valid, pd.get_dummies(emotion_valid)))"
   ],
   "metadata": {
    "collapsed": false,
    "pycharm": {
     "name": "#%%\n"
    }
   }
  },
  {
   "cell_type": "code",
   "execution_count": 30,
   "outputs": [
    {
     "data": {
      "text/plain": "<Figure size 432x288 with 1 Axes>",
      "image/png": "[encoded data removed]"
     },
     "metadata": {
      "needs_background": "light"
     },
     "output_type": "display_data"
    }
   ],
   "source": [
    "from matplotlib import pyplot as plt\n",
    "\n",
    "plt.plot(history.history['loss'])\n",
    "plt.plot(history.history['val_loss'])\n",
    "plt.show()"
   ],
   "metadata": {
    "collapsed": false,
    "pycharm": {
     "name": "#%%\n"
    }
   }
  },
  {
   "cell_type": "code",
   "execution_count": 31,
   "outputs": [],
   "source": [
    "y_pred = model.predict(pad_sequence_valid)"
   ],
   "metadata": {
    "collapsed": false,
    "pycharm": {
     "name": "#%%\n"
    }
   }
  },
  {
   "cell_type": "code",
   "execution_count": 44,
   "outputs": [
    {
     "data": {
      "text/plain": "array([[[140,  10],\n        [ 13,   1]],\n\n       [[126,  17],\n        [ 18,   3]],\n\n       [[151,   6],\n        [  5,   2]],\n\n       [[ 79,  14],\n        [ 30,  41]],\n\n       [[141,  12],\n        [ 11,   0]],\n\n       [[148,   5],\n        [ 11,   0]],\n\n       [[150,   1],\n        [ 11,   2]],\n\n       [[141,  19],\n        [  3,   1]],\n\n       [[135,  17],\n        [  7,   5]]], dtype=int64)"
     },
     "execution_count": 44,
     "metadata": {},
     "output_type": "execute_result"
    }
   ],
   "source": [
    "from sklearn.metrics import multilabel_confusion_matrix, confusion_matrix\n",
    "\n",
    "confusion_matrix = multilabel_confusion_matrix(y_true=pd.get_dummies(emotion_valid).values, y_pred=y_pred.round())\n",
    "confusion_matrix"
   ],
   "metadata": {
    "collapsed": false,
    "pycharm": {
     "name": "#%%\n"
    }
   }
  },
  {
   "cell_type": "code",
   "execution_count": 35,
   "outputs": [
    {
     "data": {
      "text/plain": "array([[0, 0, 0, ..., 0, 0, 0],\n       [0, 0, 1, ..., 0, 0, 0],\n       [0, 0, 0, ..., 0, 0, 0],\n       ...,\n       [0, 0, 0, ..., 0, 0, 0],\n       [0, 0, 0, ..., 0, 0, 0],\n       [0, 0, 0, ..., 0, 1, 0]], dtype=uint8)"
     },
     "execution_count": 35,
     "metadata": {},
     "output_type": "execute_result"
    }
   ],
   "source": [
    "pd.get_dummies(emotion_valid).values"
   ],
   "metadata": {
    "collapsed": false,
    "pycharm": {
     "name": "#%%\n"
    }
   }
  },
  {
   "cell_type": "code",
   "execution_count": 38,
   "outputs": [
    {
     "data": {
      "text/plain": "array([[0., 0., 0., ..., 0., 0., 0.],\n       [0., 1., 0., ..., 0., 0., 0.],\n       [0., 0., 0., ..., 0., 0., 0.],\n       ...,\n       [0., 0., 0., ..., 0., 0., 0.],\n       [0., 0., 0., ..., 0., 1., 0.],\n       [0., 0., 1., ..., 0., 0., 0.]], dtype=float32)"
     },
     "execution_count": 38,
     "metadata": {},
     "output_type": "execute_result"
    }
   ],
   "source": [
    "y_pred.round()"
   ],
   "metadata": {
    "collapsed": false,
    "pycharm": {
     "name": "#%%\n"
    }
   }
  },
  {
   "cell_type": "code",
   "execution_count": 45,
   "outputs": [
    {
     "name": "stderr",
     "output_type": "stream",
     "text": [
      "WARNING:absl:Found untraced functions such as lstm_cell_7_layer_call_fn, lstm_cell_7_layer_call_and_return_conditional_losses, lstm_cell_8_layer_call_fn, lstm_cell_8_layer_call_and_return_conditional_losses, lstm_cell_10_layer_call_fn while saving (showing 5 of 20). These functions will not be directly callable after loading.\n"
     ]
    },
    {
     "name": "stdout",
     "output_type": "stream",
     "text": [
      "INFO:tensorflow:Assets written to: ../model/emotion-analysis\\assets\n"
     ]
    },
    {
     "name": "stderr",
     "output_type": "stream",
     "text": [
      "INFO:tensorflow:Assets written to: ../model/emotion-analysis\\assets\n",
      "WARNING:absl:<keras.layers.recurrent.LSTMCell object at 0x00000153EA7E09A0> has the same name 'LSTMCell' as a built-in Keras object. Consider renaming <class 'keras.layers.recurrent.LSTMCell'> to avoid naming conflicts when loading with `tf.keras.models.load_model`. If renaming is not possible, pass the object in the `custom_objects` parameter of the load function.\n",
      "WARNING:absl:<keras.layers.recurrent.LSTMCell object at 0x00000153E3AEC130> has the same name 'LSTMCell' as a built-in Keras object. Consider renaming <class 'keras.layers.recurrent.LSTMCell'> to avoid naming conflicts when loading with `tf.keras.models.load_model`. If renaming is not possible, pass the object in the `custom_objects` parameter of the load function.\n",
      "WARNING:absl:<keras.layers.recurrent.LSTMCell object at 0x00000153E3A5A580> has the same name 'LSTMCell' as a built-in Keras object. Consider renaming <class 'keras.layers.recurrent.LSTMCell'> to avoid naming conflicts when loading with `tf.keras.models.load_model`. If renaming is not possible, pass the object in the `custom_objects` parameter of the load function.\n",
      "WARNING:absl:<keras.layers.recurrent.LSTMCell object at 0x00000153E3A5AF10> has the same name 'LSTMCell' as a built-in Keras object. Consider renaming <class 'keras.layers.recurrent.LSTMCell'> to avoid naming conflicts when loading with `tf.keras.models.load_model`. If renaming is not possible, pass the object in the `custom_objects` parameter of the load function.\n"
     ]
    }
   ],
   "source": [
    "model.save('../model/emotion-analysis')"
   ],
   "metadata": {
    "collapsed": false,
    "pycharm": {
     "name": "#%%\n"
    }
   }
  },
  {
   "cell_type": "code",
   "execution_count": 47,
   "outputs": [],
   "source": [
    "import pickle\n",
    "\n",
    "with open('../model/tokenizer.pickle', 'wb') as handle:\n",
    "      pickle.dump(tokenizer, handle, protocol=pickle.HIGHEST_PROTOCOL)"
   ],
   "metadata": {
    "collapsed": false,
    "pycharm": {
     "name": "#%%\n"
    }
   }
  },
  {
   "cell_type": "code",
   "execution_count": null,
   "outputs": [],
   "source": [],
   "metadata": {
    "collapsed": false,
    "pycharm": {
     "name": "#%%\n"
    }
   }
  }
 ],
 "metadata": {
  "kernelspec": {
   "display_name": "Python 3",
   "language": "python",
   "name": "python3"
  },
  "language_info": {
   "codemirror_mode": {
    "name": "ipython",
    "version": 2
   },
   "file_extension": ".py",
   "mimetype": "text/x-python",
   "name": "python",
   "nbconvert_exporter": "python",
   "pygments_lexer": "ipython2",
   "version": "2.7.6"
  }
 },
 "nbformat": 4,
 "nbformat_minor": 0
}