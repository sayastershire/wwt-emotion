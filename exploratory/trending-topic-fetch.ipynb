{
 "cells": [
  {
   "cell_type": "code",
   "execution_count": 1,
   "metadata": {
    "collapsed": true
   },
   "outputs": [],
   "source": [
    "import pandas as pd\n",
    "import twitter"
   ]
  },
  {
   "cell_type": "code",
   "execution_count": 2,
   "outputs": [],
   "source": [
    "with open('../credential/bearer_token.txt') as f:\n",
    "    BEARER_TOKEN = f.read()\n",
    "\n",
    "t_h = twitter.Twitter(auth=twitter.OAuth2(bearer_token=BEARER_TOKEN))"
   ],
   "metadata": {
    "collapsed": false,
    "pycharm": {
     "name": "#%%\n"
    }
   }
  },
  {
   "cell_type": "code",
   "execution_count": 3,
   "outputs": [
    {
     "data": {
      "text/plain": "[{'name': 'Jakarta',\n  'placeType': {'code': 7, 'name': 'Town'},\n  'url': 'http://where.yahooapis.com/v1/place/1047378',\n  'parentid': 23424846,\n  'country': 'Indonesia',\n  'woeid': 1047378,\n  'countryCode': 'ID'}]"
     },
     "execution_count": 3,
     "metadata": {},
     "output_type": "execute_result"
    }
   ],
   "source": [
    "# Fetch trending topic\n",
    "t_h.trends.closest(lat=-6.1753, long=106.8263)\n",
    "\n",
    "# Verdict: 1047378 is Jakarta on WOEID\n",
    "\n"
   ],
   "metadata": {
    "collapsed": false,
    "pycharm": {
     "name": "#%%\n"
    }
   }
  },
  {
   "cell_type": "code",
   "execution_count": 4,
   "outputs": [
    {
     "ename": "TwitterHTTPError",
     "evalue": "Twitter sent status 404 for URL: 1.1/trends/place/1.json using parameters: ()\ndetails: {'errors': [{'message': 'Sorry, that page does not exist', 'code': 34}]}",
     "output_type": "error",
     "traceback": [
      "\u001B[1;31m---------------------------------------------------------------------------\u001B[0m",
      "\u001B[1;31mHTTPError\u001B[0m                                 Traceback (most recent call last)",
      "\u001B[1;32m~\\miniconda3\\lib\\site-packages\\twitter\\api.py\u001B[0m in \u001B[0;36m_handle_response\u001B[1;34m(self, req, uri, arg_data, _timeout)\u001B[0m\n\u001B[0;32m    374\u001B[0m             \u001B[0mkwargs\u001B[0m\u001B[1;33m[\u001B[0m\u001B[1;34m'context'\u001B[0m\u001B[1;33m]\u001B[0m \u001B[1;33m=\u001B[0m \u001B[0mcontext\u001B[0m\u001B[1;33m\u001B[0m\u001B[1;33m\u001B[0m\u001B[0m\n\u001B[1;32m--> 375\u001B[1;33m             \u001B[0mhandle\u001B[0m \u001B[1;33m=\u001B[0m \u001B[0murllib_request\u001B[0m\u001B[1;33m.\u001B[0m\u001B[0murlopen\u001B[0m\u001B[1;33m(\u001B[0m\u001B[0mreq\u001B[0m\u001B[1;33m,\u001B[0m \u001B[1;33m**\u001B[0m\u001B[0mkwargs\u001B[0m\u001B[1;33m)\u001B[0m\u001B[1;33m\u001B[0m\u001B[1;33m\u001B[0m\u001B[0m\n\u001B[0m\u001B[0;32m    376\u001B[0m             \u001B[1;32mif\u001B[0m \u001B[0mhandle\u001B[0m\u001B[1;33m.\u001B[0m\u001B[0mheaders\u001B[0m\u001B[1;33m[\u001B[0m\u001B[1;34m'Content-Type'\u001B[0m\u001B[1;33m]\u001B[0m \u001B[1;32min\u001B[0m \u001B[1;33m[\u001B[0m\u001B[1;34m'image/jpeg'\u001B[0m\u001B[1;33m,\u001B[0m \u001B[1;34m'image/png'\u001B[0m\u001B[1;33m]\u001B[0m\u001B[1;33m:\u001B[0m\u001B[1;33m\u001B[0m\u001B[1;33m\u001B[0m\u001B[0m\n",
      "\u001B[1;32m~\\miniconda3\\lib\\urllib\\request.py\u001B[0m in \u001B[0;36murlopen\u001B[1;34m(url, data, timeout, cafile, capath, cadefault, context)\u001B[0m\n\u001B[0;32m    221\u001B[0m         \u001B[0mopener\u001B[0m \u001B[1;33m=\u001B[0m \u001B[0m_opener\u001B[0m\u001B[1;33m\u001B[0m\u001B[1;33m\u001B[0m\u001B[0m\n\u001B[1;32m--> 222\u001B[1;33m     \u001B[1;32mreturn\u001B[0m \u001B[0mopener\u001B[0m\u001B[1;33m.\u001B[0m\u001B[0mopen\u001B[0m\u001B[1;33m(\u001B[0m\u001B[0murl\u001B[0m\u001B[1;33m,\u001B[0m \u001B[0mdata\u001B[0m\u001B[1;33m,\u001B[0m \u001B[0mtimeout\u001B[0m\u001B[1;33m)\u001B[0m\u001B[1;33m\u001B[0m\u001B[1;33m\u001B[0m\u001B[0m\n\u001B[0m\u001B[0;32m    223\u001B[0m \u001B[1;33m\u001B[0m\u001B[0m\n",
      "\u001B[1;32m~\\miniconda3\\lib\\urllib\\request.py\u001B[0m in \u001B[0;36mopen\u001B[1;34m(self, fullurl, data, timeout)\u001B[0m\n\u001B[0;32m    530\u001B[0m             \u001B[0mmeth\u001B[0m \u001B[1;33m=\u001B[0m \u001B[0mgetattr\u001B[0m\u001B[1;33m(\u001B[0m\u001B[0mprocessor\u001B[0m\u001B[1;33m,\u001B[0m \u001B[0mmeth_name\u001B[0m\u001B[1;33m)\u001B[0m\u001B[1;33m\u001B[0m\u001B[1;33m\u001B[0m\u001B[0m\n\u001B[1;32m--> 531\u001B[1;33m             \u001B[0mresponse\u001B[0m \u001B[1;33m=\u001B[0m \u001B[0mmeth\u001B[0m\u001B[1;33m(\u001B[0m\u001B[0mreq\u001B[0m\u001B[1;33m,\u001B[0m \u001B[0mresponse\u001B[0m\u001B[1;33m)\u001B[0m\u001B[1;33m\u001B[0m\u001B[1;33m\u001B[0m\u001B[0m\n\u001B[0m\u001B[0;32m    532\u001B[0m \u001B[1;33m\u001B[0m\u001B[0m\n",
      "\u001B[1;32m~\\miniconda3\\lib\\urllib\\request.py\u001B[0m in \u001B[0;36mhttp_response\u001B[1;34m(self, request, response)\u001B[0m\n\u001B[0;32m    639\u001B[0m         \u001B[1;32mif\u001B[0m \u001B[1;32mnot\u001B[0m \u001B[1;33m(\u001B[0m\u001B[1;36m200\u001B[0m \u001B[1;33m<=\u001B[0m \u001B[0mcode\u001B[0m \u001B[1;33m<\u001B[0m \u001B[1;36m300\u001B[0m\u001B[1;33m)\u001B[0m\u001B[1;33m:\u001B[0m\u001B[1;33m\u001B[0m\u001B[1;33m\u001B[0m\u001B[0m\n\u001B[1;32m--> 640\u001B[1;33m             response = self.parent.error(\n\u001B[0m\u001B[0;32m    641\u001B[0m                 'http', request, response, code, msg, hdrs)\n",
      "\u001B[1;32m~\\miniconda3\\lib\\urllib\\request.py\u001B[0m in \u001B[0;36merror\u001B[1;34m(self, proto, *args)\u001B[0m\n\u001B[0;32m    568\u001B[0m             \u001B[0margs\u001B[0m \u001B[1;33m=\u001B[0m \u001B[1;33m(\u001B[0m\u001B[0mdict\u001B[0m\u001B[1;33m,\u001B[0m \u001B[1;34m'default'\u001B[0m\u001B[1;33m,\u001B[0m \u001B[1;34m'http_error_default'\u001B[0m\u001B[1;33m)\u001B[0m \u001B[1;33m+\u001B[0m \u001B[0morig_args\u001B[0m\u001B[1;33m\u001B[0m\u001B[1;33m\u001B[0m\u001B[0m\n\u001B[1;32m--> 569\u001B[1;33m             \u001B[1;32mreturn\u001B[0m \u001B[0mself\u001B[0m\u001B[1;33m.\u001B[0m\u001B[0m_call_chain\u001B[0m\u001B[1;33m(\u001B[0m\u001B[1;33m*\u001B[0m\u001B[0margs\u001B[0m\u001B[1;33m)\u001B[0m\u001B[1;33m\u001B[0m\u001B[1;33m\u001B[0m\u001B[0m\n\u001B[0m\u001B[0;32m    570\u001B[0m \u001B[1;33m\u001B[0m\u001B[0m\n",
      "\u001B[1;32m~\\miniconda3\\lib\\urllib\\request.py\u001B[0m in \u001B[0;36m_call_chain\u001B[1;34m(self, chain, kind, meth_name, *args)\u001B[0m\n\u001B[0;32m    501\u001B[0m             \u001B[0mfunc\u001B[0m \u001B[1;33m=\u001B[0m \u001B[0mgetattr\u001B[0m\u001B[1;33m(\u001B[0m\u001B[0mhandler\u001B[0m\u001B[1;33m,\u001B[0m \u001B[0mmeth_name\u001B[0m\u001B[1;33m)\u001B[0m\u001B[1;33m\u001B[0m\u001B[1;33m\u001B[0m\u001B[0m\n\u001B[1;32m--> 502\u001B[1;33m             \u001B[0mresult\u001B[0m \u001B[1;33m=\u001B[0m \u001B[0mfunc\u001B[0m\u001B[1;33m(\u001B[0m\u001B[1;33m*\u001B[0m\u001B[0margs\u001B[0m\u001B[1;33m)\u001B[0m\u001B[1;33m\u001B[0m\u001B[1;33m\u001B[0m\u001B[0m\n\u001B[0m\u001B[0;32m    503\u001B[0m             \u001B[1;32mif\u001B[0m \u001B[0mresult\u001B[0m \u001B[1;32mis\u001B[0m \u001B[1;32mnot\u001B[0m \u001B[1;32mNone\u001B[0m\u001B[1;33m:\u001B[0m\u001B[1;33m\u001B[0m\u001B[1;33m\u001B[0m\u001B[0m\n",
      "\u001B[1;32m~\\miniconda3\\lib\\urllib\\request.py\u001B[0m in \u001B[0;36mhttp_error_default\u001B[1;34m(self, req, fp, code, msg, hdrs)\u001B[0m\n\u001B[0;32m    648\u001B[0m     \u001B[1;32mdef\u001B[0m \u001B[0mhttp_error_default\u001B[0m\u001B[1;33m(\u001B[0m\u001B[0mself\u001B[0m\u001B[1;33m,\u001B[0m \u001B[0mreq\u001B[0m\u001B[1;33m,\u001B[0m \u001B[0mfp\u001B[0m\u001B[1;33m,\u001B[0m \u001B[0mcode\u001B[0m\u001B[1;33m,\u001B[0m \u001B[0mmsg\u001B[0m\u001B[1;33m,\u001B[0m \u001B[0mhdrs\u001B[0m\u001B[1;33m)\u001B[0m\u001B[1;33m:\u001B[0m\u001B[1;33m\u001B[0m\u001B[1;33m\u001B[0m\u001B[0m\n\u001B[1;32m--> 649\u001B[1;33m         \u001B[1;32mraise\u001B[0m \u001B[0mHTTPError\u001B[0m\u001B[1;33m(\u001B[0m\u001B[0mreq\u001B[0m\u001B[1;33m.\u001B[0m\u001B[0mfull_url\u001B[0m\u001B[1;33m,\u001B[0m \u001B[0mcode\u001B[0m\u001B[1;33m,\u001B[0m \u001B[0mmsg\u001B[0m\u001B[1;33m,\u001B[0m \u001B[0mhdrs\u001B[0m\u001B[1;33m,\u001B[0m \u001B[0mfp\u001B[0m\u001B[1;33m)\u001B[0m\u001B[1;33m\u001B[0m\u001B[1;33m\u001B[0m\u001B[0m\n\u001B[0m\u001B[0;32m    650\u001B[0m \u001B[1;33m\u001B[0m\u001B[0m\n",
      "\u001B[1;31mHTTPError\u001B[0m: HTTP Error 404: Not Found",
      "\nDuring handling of the above exception, another exception occurred:\n",
      "\u001B[1;31mTwitterHTTPError\u001B[0m                          Traceback (most recent call last)",
      "\u001B[1;32m~\\AppData\\Local\\Temp/ipykernel_22108/1868631467.py\u001B[0m in \u001B[0;36m<module>\u001B[1;34m\u001B[0m\n\u001B[1;32m----> 1\u001B[1;33m \u001B[0mt_h\u001B[0m\u001B[1;33m.\u001B[0m\u001B[0mtrends\u001B[0m\u001B[1;33m.\u001B[0m\u001B[0mplace\u001B[0m\u001B[1;33m(\u001B[0m\u001B[0mid\u001B[0m\u001B[1;33m=\u001B[0m\u001B[1;36m1\u001B[0m\u001B[1;33m)\u001B[0m\u001B[1;33m\u001B[0m\u001B[1;33m\u001B[0m\u001B[0m\n\u001B[0m\u001B[0;32m      2\u001B[0m \u001B[1;33m\u001B[0m\u001B[0m\n\u001B[0;32m      3\u001B[0m \u001B[1;31m# Verdict: twitter library is broken.\u001B[0m\u001B[1;33m\u001B[0m\u001B[1;33m\u001B[0m\u001B[1;33m\u001B[0m\u001B[0m\n",
      "\u001B[1;32m~\\miniconda3\\lib\\site-packages\\twitter\\api.py\u001B[0m in \u001B[0;36m__call__\u001B[1;34m(self, **kwargs)\u001B[0m\n\u001B[0;32m    362\u001B[0m             \u001B[1;32mreturn\u001B[0m \u001B[0mself\u001B[0m\u001B[1;33m.\u001B[0m\u001B[0m_handle_response_with_retry\u001B[0m\u001B[1;33m(\u001B[0m\u001B[0mreq\u001B[0m\u001B[1;33m,\u001B[0m \u001B[0muri\u001B[0m\u001B[1;33m,\u001B[0m \u001B[0marg_data\u001B[0m\u001B[1;33m,\u001B[0m \u001B[0m_timeout\u001B[0m\u001B[1;33m)\u001B[0m\u001B[1;33m\u001B[0m\u001B[1;33m\u001B[0m\u001B[0m\n\u001B[0;32m    363\u001B[0m         \u001B[1;32melse\u001B[0m\u001B[1;33m:\u001B[0m\u001B[1;33m\u001B[0m\u001B[1;33m\u001B[0m\u001B[0m\n\u001B[1;32m--> 364\u001B[1;33m             \u001B[1;32mreturn\u001B[0m \u001B[0mself\u001B[0m\u001B[1;33m.\u001B[0m\u001B[0m_handle_response\u001B[0m\u001B[1;33m(\u001B[0m\u001B[0mreq\u001B[0m\u001B[1;33m,\u001B[0m \u001B[0muri\u001B[0m\u001B[1;33m,\u001B[0m \u001B[0marg_data\u001B[0m\u001B[1;33m,\u001B[0m \u001B[0m_timeout\u001B[0m\u001B[1;33m)\u001B[0m\u001B[1;33m\u001B[0m\u001B[1;33m\u001B[0m\u001B[0m\n\u001B[0m\u001B[0;32m    365\u001B[0m \u001B[1;33m\u001B[0m\u001B[0m\n\u001B[0;32m    366\u001B[0m     \u001B[1;32mdef\u001B[0m \u001B[0m_handle_response\u001B[0m\u001B[1;33m(\u001B[0m\u001B[0mself\u001B[0m\u001B[1;33m,\u001B[0m \u001B[0mreq\u001B[0m\u001B[1;33m,\u001B[0m \u001B[0muri\u001B[0m\u001B[1;33m,\u001B[0m \u001B[0marg_data\u001B[0m\u001B[1;33m,\u001B[0m \u001B[0m_timeout\u001B[0m\u001B[1;33m=\u001B[0m\u001B[1;32mNone\u001B[0m\u001B[1;33m)\u001B[0m\u001B[1;33m:\u001B[0m\u001B[1;33m\u001B[0m\u001B[1;33m\u001B[0m\u001B[0m\n",
      "\u001B[1;32m~\\miniconda3\\lib\\site-packages\\twitter\\api.py\u001B[0m in \u001B[0;36m_handle_response\u001B[1;34m(self, req, uri, arg_data, _timeout)\u001B[0m\n\u001B[0;32m    404\u001B[0m                 \u001B[1;32mreturn\u001B[0m \u001B[1;33m[\u001B[0m\u001B[1;33m]\u001B[0m\u001B[1;33m\u001B[0m\u001B[1;33m\u001B[0m\u001B[0m\n\u001B[0;32m    405\u001B[0m             \u001B[1;32melse\u001B[0m\u001B[1;33m:\u001B[0m\u001B[1;33m\u001B[0m\u001B[1;33m\u001B[0m\u001B[0m\n\u001B[1;32m--> 406\u001B[1;33m                 \u001B[1;32mraise\u001B[0m \u001B[0mTwitterHTTPError\u001B[0m\u001B[1;33m(\u001B[0m\u001B[0me\u001B[0m\u001B[1;33m,\u001B[0m \u001B[0muri\u001B[0m\u001B[1;33m,\u001B[0m \u001B[0mself\u001B[0m\u001B[1;33m.\u001B[0m\u001B[0mformat\u001B[0m\u001B[1;33m,\u001B[0m \u001B[0marg_data\u001B[0m\u001B[1;33m)\u001B[0m\u001B[1;33m\u001B[0m\u001B[1;33m\u001B[0m\u001B[0m\n\u001B[0m\u001B[0;32m    407\u001B[0m \u001B[1;33m\u001B[0m\u001B[0m\n\u001B[0;32m    408\u001B[0m     \u001B[1;32mdef\u001B[0m \u001B[0m_handle_response_with_retry\u001B[0m\u001B[1;33m(\u001B[0m\u001B[0mself\u001B[0m\u001B[1;33m,\u001B[0m \u001B[0mreq\u001B[0m\u001B[1;33m,\u001B[0m \u001B[0muri\u001B[0m\u001B[1;33m,\u001B[0m \u001B[0marg_data\u001B[0m\u001B[1;33m,\u001B[0m \u001B[0m_timeout\u001B[0m\u001B[1;33m=\u001B[0m\u001B[1;32mNone\u001B[0m\u001B[1;33m)\u001B[0m\u001B[1;33m:\u001B[0m\u001B[1;33m\u001B[0m\u001B[1;33m\u001B[0m\u001B[0m\n",
      "\u001B[1;31mTwitterHTTPError\u001B[0m: Twitter sent status 404 for URL: 1.1/trends/place/1.json using parameters: ()\ndetails: {'errors': [{'message': 'Sorry, that page does not exist', 'code': 34}]}"
     ]
    }
   ],
   "source": [
    "t_h.trends.place(id=1)\n",
    "\n",
    "# Verdict: twitter library is broken."
   ],
   "metadata": {
    "collapsed": false,
    "pycharm": {
     "name": "#%%\n"
    }
   }
  },
  {
   "cell_type": "code",
   "execution_count": 6,
   "outputs": [],
   "source": [
    "# Therefore, we are using GET request.\n",
    "import requests\n",
    "\n",
    "jakarta_trending = requests.get(\"https://api.twitter.com/1.1/trends/place.json?id=1047378\", headers={'Authorization': 'Bearer '+BEARER_TOKEN})"
   ],
   "metadata": {
    "collapsed": false,
    "pycharm": {
     "name": "#%%\n"
    }
   }
  },
  {
   "cell_type": "code",
   "execution_count": 7,
   "outputs": [
    {
     "data": {
      "text/plain": "'[{\"trends\":[{\"name\":\"xiao\",\"url\":\"http:\\\\/\\\\/twitter.com\\\\/search?q=xiao\",\"promoted_content\":null,\"query\":\"xiao\",\"tweet_volume\":51789},{\"name\":\"#AMAsTNT\",\"url\":\"http:\\\\/\\\\/twitter.com\\\\/search?q=%23AMAsTNT\",\"promoted_content\":null,\"query\":\"%23AMAsTNT\",\"tweet_volume\":8607535},{\"name\":\"#BTSxAMAs\",\"url\":\"http:\\\\/\\\\/twitter.com\\\\/search?q=%23BTSxAMAs\",\"promoted_content\":null,\"query\":\"%23BTSxAMAs\",\"tweet_volume\":5166619},{\"name\":\"#TelkomDukungUMKMmandalika\",\"url\":\"http:\\\\/\\\\/twitter.com\\\\/search?q=%23TelkomDukungUMKMmandalika\",\"promoted_content\":null,\"query\":\"%23TelkomDukungUMKMmandalika\",\"tweet_volume\":null},{\"name\":\"#IVE_1st_ConceptPhoto\",\"url\":\"http:\\\\/\\\\/twitter.com\\\\/search?q=%23IVE_1st_ConceptPhoto\",\"promoted_content\":null,\"query\":\"%23IVE_1st_ConceptPhoto\",\"tweet_volume\":11268},{\"name\":\"#IkatanCintaEp520\",\"url\":\"http:\\\\/\\\\/twitter.com\\\\/search?q=%23IkatanCintaEp520\",\"promoted_content\":null,\"query\":\"%23IkatanCintaEp520\",\"tweet_volume\":null},{\"name\":\"Nessie\",\"url\":\"http:\\\\/\\\\/twitter.com\\\\/search?q=Nessie\",\"promoted_content\":null,\"query\":\"Nessie\",\"tweet_volume\":20606},{\"name\":\"Edi Witjara\",\"url\":\"http:\\\\/\\\\/twitter.com\\\\/search?q=%22Edi+Witjara%22\",\"promoted_content\":null,\"query\":\"%22Edi+Witjara%22\",\"tweet_volume\":null},{\"name\":\"Mas Gilang\",\"url\":\"http:\\\\/\\\\/twitter.com\\\\/search?q=%22Mas+Gilang%22\",\"promoted_content\":null,\"query\":\"%22Mas+Gilang%22\",\"tweet_volume\":null},{\"name\":\"Ariel\",\"url\":\"http:\\\\/\\\\/twitter.com\\\\/search?q=Ariel\",\"promoted_content\":null,\"query\":\"Ariel\",\"tweet_volume\":19763},{\"name\":\"MEW MEW SO HOT\",\"url\":\"http:\\\\/\\\\/twitter.com\\\\/search?q=%22MEW+MEW+SO+HOT%22\",\"promoted_content\":null,\"query\":\"%22MEW+MEW+SO+HOT%22\",\"tweet_volume\":84496},{\"name\":\"Ngeluh\",\"url\":\"http:\\\\/\\\\/twitter.com\\\\/search?q=Ngeluh\",\"promoted_content\":null,\"query\":\"Ngeluh\",\"tweet_volume\":null},{\"name\":\"ITDC Group\",\"url\":\"http:\\\\/\\\\/twitter.com\\\\/search?q=%22ITDC+Group%22\",\"promoted_content\":null,\"query\":\"%22ITDC+Group%22\",\"tweet_volume\":null},{\"name\":\"Shenhe\",\"url\":\"http:\\\\/\\\\/twitter.com\\\\/search?q=Shenhe\",\"promoted_content\":null,\"query\":\"Shenhe\",\"tweet_volume\":101627},{\"name\":\"MS Glow\",\"url\":\"http:\\\\/\\\\/twitter.com\\\\/search?q=%22MS+Glow%22\",\"promoted_content\":null,\"query\":\"%22MS+Glow%22\",\"tweet_volume\":null},{\"name\":\"SPBU\",\"url\":\"http:\\\\/\\\\/twitter.com\\\\/search?q=SPBU\",\"promoted_content\":null,\"query\":\"SPBU\",\"tweet_volume\":null},{\"name\":\"Arsyad\",\"url\":\"http:\\\\/\\\\/twitter.com\\\\/search?q=Arsyad\",\"promoted_content\":null,\"query\":\"Arsyad\",\"tweet_volume\":null},{\"name\":\"Kojic\",\"url\":\"http:\\\\/\\\\/twitter.com\\\\/search?q=Kojic\",\"promoted_content\":null,\"query\":\"Kojic\",\"tweet_volume\":null},{\"name\":\"YESEO FOR DAZED\",\"url\":\"http:\\\\/\\\\/twitter.com\\\\/search?q=%22YESEO+FOR+DAZED%22\",\"promoted_content\":null,\"query\":\"%22YESEO+FOR+DAZED%22\",\"tweet_volume\":26557},{\"name\":\"Wine\",\"url\":\"http:\\\\/\\\\/twitter.com\\\\/search?q=Wine\",\"promoted_content\":null,\"query\":\"Wine\",\"tweet_volume\":61051},{\"name\":\"Healing\",\"url\":\"http:\\\\/\\\\/twitter.com\\\\/search?q=Healing\",\"promoted_content\":null,\"query\":\"Healing\",\"tweet_volume\":72536},{\"name\":\"Juragan\",\"url\":\"http:\\\\/\\\\/twitter.com\\\\/search?q=Juragan\",\"promoted_content\":null,\"query\":\"Juragan\",\"tweet_volume\":null},{\"name\":\"Marriage\",\"url\":\"http:\\\\/\\\\/twitter.com\\\\/search?q=Marriage\",\"promoted_content\":null,\"query\":\"Marriage\",\"tweet_volume\":66675},{\"name\":\"Arteria\",\"url\":\"http:\\\\/\\\\/twitter.com\\\\/search?q=Arteria\",\"promoted_content\":null,\"query\":\"Arteria\",\"tweet_volume\":null},{\"name\":\"Bram\",\"url\":\"http:\\\\/\\\\/twitter.com\\\\/search?q=Bram\",\"promoted_content\":null,\"query\":\"Bram\",\"tweet_volume\":null},{\"name\":\"Sapu\",\"url\":\"http:\\\\/\\\\/twitter.com\\\\/search?q=Sapu\",\"promoted_content\":null,\"query\":\"Sapu\",\"tweet_volume\":13300},{\"name\":\"Yunjin\",\"url\":\"http:\\\\/\\\\/twitter.com\\\\/search?q=Yunjin\",\"promoted_content\":null,\"query\":\"Yunjin\",\"tweet_volume\":40398},{\"name\":\"Penjilat\",\"url\":\"http:\\\\/\\\\/twitter.com\\\\/search?q=Penjilat\",\"promoted_content\":null,\"query\":\"Penjilat\",\"tweet_volume\":null},{\"name\":\"Polearm\",\"url\":\"http:\\\\/\\\\/twitter.com\\\\/search?q=Polearm\",\"promoted_content\":null,\"query\":\"Polearm\",\"tweet_volume\":34351},{\"name\":\"Provinsi Jawa\",\"url\":\"http:\\\\/\\\\/twitter.com\\\\/search?q=%22Provinsi+Jawa%22\",\"promoted_content\":null,\"query\":\"%22Provinsi+Jawa%22\",\"tweet_volume\":null},{\"name\":\"Selingkuh\",\"url\":\"http:\\\\/\\\\/twitter.com\\\\/search?q=Selingkuh\",\"promoted_content\":null,\"query\":\"Selingkuh\",\"tweet_volume\":17058},{\"name\":\"Sejarah\",\"url\":\"http:\\\\/\\\\/twitter.com\\\\/search?q=Sejarah\",\"promoted_content\":null,\"query\":\"Sejarah\",\"tweet_volume\":null},{\"name\":\"Karma\",\"url\":\"http:\\\\/\\\\/twitter.com\\\\/search?q=Karma\",\"promoted_content\":null,\"query\":\"Karma\",\"tweet_volume\":64749},{\"name\":\"Emil Salim\",\"url\":\"http:\\\\/\\\\/twitter.com\\\\/search?q=%22Emil+Salim%22\",\"promoted_content\":null,\"query\":\"%22Emil+Salim%22\",\"tweet_volume\":null},{\"name\":\"Operasi\",\"url\":\"http:\\\\/\\\\/twitter.com\\\\/search?q=Operasi\",\"promoted_content\":null,\"query\":\"Operasi\",\"tweet_volume\":null},{\"name\":\"SF9 TRAUMA OUT NOW\",\"url\":\"http:\\\\/\\\\/twitter.com\\\\/search?q=%22SF9+TRAUMA+OUT+NOW%22\",\"promoted_content\":null,\"query\":\"%22SF9+TRAUMA+OUT+NOW%22\",\"tweet_volume\":42283},{\"name\":\"Jaksel\",\"url\":\"http:\\\\/\\\\/twitter.com\\\\/search?q=Jaksel\",\"promoted_content\":null,\"query\":\"Jaksel\",\"tweet_volume\":28568},{\"name\":\"Dp 150k\",\"url\":\"http:\\\\/\\\\/twitter.com\\\\/search?q=%22Dp+150k%22\",\"promoted_content\":null,\"query\":\"%22Dp+150k%22\",\"tweet_volume\":null},{\"name\":\"Ganyu\",\"url\":\"http:\\\\/\\\\/twitter.com\\\\/search?q=Ganyu\",\"promoted_content\":null,\"query\":\"Ganyu\",\"tweet_volume\":19127},{\"name\":\"Eula\",\"url\":\"http:\\\\/\\\\/twitter.com\\\\/search?q=Eula\",\"promoted_content\":null,\"query\":\"Eula\",\"tweet_volume\":34489},{\"name\":\"EMS TAX\",\"url\":\"http:\\\\/\\\\/twitter.com\\\\/search?q=%22EMS+TAX%22\",\"promoted_content\":null,\"query\":\"%22EMS+TAX%22\",\"tweet_volume\":null},{\"name\":\"ayato\",\"url\":\"http:\\\\/\\\\/twitter.com\\\\/search?q=ayato\",\"promoted_content\":null,\"query\":\"ayato\",\"tweet_volume\":30734},{\"name\":\"OPEN PO\",\"url\":\"http:\\\\/\\\\/twitter.com\\\\/search?q=%22OPEN+PO%22\",\"promoted_content\":null,\"query\":\"%22OPEN+PO%22\",\"tweet_volume\":15392},{\"name\":\"Itto\",\"url\":\"http:\\\\/\\\\/twitter.com\\\\/search?q=Itto\",\"promoted_content\":null,\"query\":\"Itto\",\"tweet_volume\":104047},{\"name\":\"Eunkwang\",\"url\":\"http:\\\\/\\\\/twitter.com\\\\/search?q=Eunkwang\",\"promoted_content\":null,\"query\":\"Eunkwang\",\"tweet_volume\":54890},{\"name\":\"TBL TBL TBL\",\"url\":\"http:\\\\/\\\\/twitter.com\\\\/search?q=%22TBL+TBL+TBL%22\",\"promoted_content\":null,\"query\":\"%22TBL+TBL+TBL%22\",\"tweet_volume\":16094},{\"name\":\"GO Line\",\"url\":\"http:\\\\/\\\\/twitter.com\\\\/search?q=%22GO+Line%22\",\"promoted_content\":null,\"query\":\"%22GO+Line%22\",\"tweet_volume\":18339},{\"name\":\"#peShan\",\"url\":\"http:\\\\/\\\\/twitter.com\\\\/search?q=%23peShan\",\"promoted_content\":null,\"query\":\"%23peShan\",\"tweet_volume\":null},{\"name\":\"#Seungmin\",\"url\":\"http:\\\\/\\\\/twitter.com\\\\/search?q=%23Seungmin\",\"promoted_content\":null,\"query\":\"%23Seungmin\",\"tweet_volume\":14470},{\"name\":\"#HARUKYU\",\"url\":\"http:\\\\/\\\\/twitter.com\\\\/search?q=%23HARUKYU\",\"promoted_content\":null,\"query\":\"%23HARUKYU\",\"tweet_volume\":null}],\"as_of\":\"2021-11-22T14:17:12Z\",\"created_at\":\"2021-11-12T13:23:38Z\",\"locations\":[{\"name\":\"Jakarta\",\"woeid\":1047378}]}]'"
     },
     "execution_count": 7,
     "metadata": {},
     "output_type": "execute_result"
    }
   ],
   "source": [
    "# JSON answer\n",
    "jakarta_trending.text"
   ],
   "metadata": {
    "collapsed": false,
    "pycharm": {
     "name": "#%%\n"
    }
   }
  },
  {
   "cell_type": "code",
   "execution_count": 8,
   "outputs": [
    {
     "data": {
      "text/plain": "[{'trends': [{'name': 'xiao',\n    'url': 'http://twitter.com/search?q=xiao',\n    'promoted_content': None,\n    'query': 'xiao',\n    'tweet_volume': 51789},\n   {'name': '#AMAsTNT',\n    'url': 'http://twitter.com/search?q=%23AMAsTNT',\n    'promoted_content': None,\n    'query': '%23AMAsTNT',\n    'tweet_volume': 8607535},\n   {'name': '#BTSxAMAs',\n    'url': 'http://twitter.com/search?q=%23BTSxAMAs',\n    'promoted_content': None,\n    'query': '%23BTSxAMAs',\n    'tweet_volume': 5166619},\n   {'name': '#TelkomDukungUMKMmandalika',\n    'url': 'http://twitter.com/search?q=%23TelkomDukungUMKMmandalika',\n    'promoted_content': None,\n    'query': '%23TelkomDukungUMKMmandalika',\n    'tweet_volume': None},\n   {'name': '#IVE_1st_ConceptPhoto',\n    'url': 'http://twitter.com/search?q=%23IVE_1st_ConceptPhoto',\n    'promoted_content': None,\n    'query': '%23IVE_1st_ConceptPhoto',\n    'tweet_volume': 11268},\n   {'name': '#IkatanCintaEp520',\n    'url': 'http://twitter.com/search?q=%23IkatanCintaEp520',\n    'promoted_content': None,\n    'query': '%23IkatanCintaEp520',\n    'tweet_volume': None},\n   {'name': 'Nessie',\n    'url': 'http://twitter.com/search?q=Nessie',\n    'promoted_content': None,\n    'query': 'Nessie',\n    'tweet_volume': 20606},\n   {'name': 'Edi Witjara',\n    'url': 'http://twitter.com/search?q=%22Edi+Witjara%22',\n    'promoted_content': None,\n    'query': '%22Edi+Witjara%22',\n    'tweet_volume': None},\n   {'name': 'Mas Gilang',\n    'url': 'http://twitter.com/search?q=%22Mas+Gilang%22',\n    'promoted_content': None,\n    'query': '%22Mas+Gilang%22',\n    'tweet_volume': None},\n   {'name': 'Ariel',\n    'url': 'http://twitter.com/search?q=Ariel',\n    'promoted_content': None,\n    'query': 'Ariel',\n    'tweet_volume': 19763},\n   {'name': 'MEW MEW SO HOT',\n    'url': 'http://twitter.com/search?q=%22MEW+MEW+SO+HOT%22',\n    'promoted_content': None,\n    'query': '%22MEW+MEW+SO+HOT%22',\n    'tweet_volume': 84496},\n   {'name': 'Ngeluh',\n    'url': 'http://twitter.com/search?q=Ngeluh',\n    'promoted_content': None,\n    'query': 'Ngeluh',\n    'tweet_volume': None},\n   {'name': 'ITDC Group',\n    'url': 'http://twitter.com/search?q=%22ITDC+Group%22',\n    'promoted_content': None,\n    'query': '%22ITDC+Group%22',\n    'tweet_volume': None},\n   {'name': 'Shenhe',\n    'url': 'http://twitter.com/search?q=Shenhe',\n    'promoted_content': None,\n    'query': 'Shenhe',\n    'tweet_volume': 101627},\n   {'name': 'MS Glow',\n    'url': 'http://twitter.com/search?q=%22MS+Glow%22',\n    'promoted_content': None,\n    'query': '%22MS+Glow%22',\n    'tweet_volume': None},\n   {'name': 'SPBU',\n    'url': 'http://twitter.com/search?q=SPBU',\n    'promoted_content': None,\n    'query': 'SPBU',\n    'tweet_volume': None},\n   {'name': 'Arsyad',\n    'url': 'http://twitter.com/search?q=Arsyad',\n    'promoted_content': None,\n    'query': 'Arsyad',\n    'tweet_volume': None},\n   {'name': 'Kojic',\n    'url': 'http://twitter.com/search?q=Kojic',\n    'promoted_content': None,\n    'query': 'Kojic',\n    'tweet_volume': None},\n   {'name': 'YESEO FOR DAZED',\n    'url': 'http://twitter.com/search?q=%22YESEO+FOR+DAZED%22',\n    'promoted_content': None,\n    'query': '%22YESEO+FOR+DAZED%22',\n    'tweet_volume': 26557},\n   {'name': 'Wine',\n    'url': 'http://twitter.com/search?q=Wine',\n    'promoted_content': None,\n    'query': 'Wine',\n    'tweet_volume': 61051},\n   {'name': 'Healing',\n    'url': 'http://twitter.com/search?q=Healing',\n    'promoted_content': None,\n    'query': 'Healing',\n    'tweet_volume': 72536},\n   {'name': 'Juragan',\n    'url': 'http://twitter.com/search?q=Juragan',\n    'promoted_content': None,\n    'query': 'Juragan',\n    'tweet_volume': None},\n   {'name': 'Marriage',\n    'url': 'http://twitter.com/search?q=Marriage',\n    'promoted_content': None,\n    'query': 'Marriage',\n    'tweet_volume': 66675},\n   {'name': 'Arteria',\n    'url': 'http://twitter.com/search?q=Arteria',\n    'promoted_content': None,\n    'query': 'Arteria',\n    'tweet_volume': None},\n   {'name': 'Bram',\n    'url': 'http://twitter.com/search?q=Bram',\n    'promoted_content': None,\n    'query': 'Bram',\n    'tweet_volume': None},\n   {'name': 'Sapu',\n    'url': 'http://twitter.com/search?q=Sapu',\n    'promoted_content': None,\n    'query': 'Sapu',\n    'tweet_volume': 13300},\n   {'name': 'Yunjin',\n    'url': 'http://twitter.com/search?q=Yunjin',\n    'promoted_content': None,\n    'query': 'Yunjin',\n    'tweet_volume': 40398},\n   {'name': 'Penjilat',\n    'url': 'http://twitter.com/search?q=Penjilat',\n    'promoted_content': None,\n    'query': 'Penjilat',\n    'tweet_volume': None},\n   {'name': 'Polearm',\n    'url': 'http://twitter.com/search?q=Polearm',\n    'promoted_content': None,\n    'query': 'Polearm',\n    'tweet_volume': 34351},\n   {'name': 'Provinsi Jawa',\n    'url': 'http://twitter.com/search?q=%22Provinsi+Jawa%22',\n    'promoted_content': None,\n    'query': '%22Provinsi+Jawa%22',\n    'tweet_volume': None},\n   {'name': 'Selingkuh',\n    'url': 'http://twitter.com/search?q=Selingkuh',\n    'promoted_content': None,\n    'query': 'Selingkuh',\n    'tweet_volume': 17058},\n   {'name': 'Sejarah',\n    'url': 'http://twitter.com/search?q=Sejarah',\n    'promoted_content': None,\n    'query': 'Sejarah',\n    'tweet_volume': None},\n   {'name': 'Karma',\n    'url': 'http://twitter.com/search?q=Karma',\n    'promoted_content': None,\n    'query': 'Karma',\n    'tweet_volume': 64749},\n   {'name': 'Emil Salim',\n    'url': 'http://twitter.com/search?q=%22Emil+Salim%22',\n    'promoted_content': None,\n    'query': '%22Emil+Salim%22',\n    'tweet_volume': None},\n   {'name': 'Operasi',\n    'url': 'http://twitter.com/search?q=Operasi',\n    'promoted_content': None,\n    'query': 'Operasi',\n    'tweet_volume': None},\n   {'name': 'SF9 TRAUMA OUT NOW',\n    'url': 'http://twitter.com/search?q=%22SF9+TRAUMA+OUT+NOW%22',\n    'promoted_content': None,\n    'query': '%22SF9+TRAUMA+OUT+NOW%22',\n    'tweet_volume': 42283},\n   {'name': 'Jaksel',\n    'url': 'http://twitter.com/search?q=Jaksel',\n    'promoted_content': None,\n    'query': 'Jaksel',\n    'tweet_volume': 28568},\n   {'name': 'Dp 150k',\n    'url': 'http://twitter.com/search?q=%22Dp+150k%22',\n    'promoted_content': None,\n    'query': '%22Dp+150k%22',\n    'tweet_volume': None},\n   {'name': 'Ganyu',\n    'url': 'http://twitter.com/search?q=Ganyu',\n    'promoted_content': None,\n    'query': 'Ganyu',\n    'tweet_volume': 19127},\n   {'name': 'Eula',\n    'url': 'http://twitter.com/search?q=Eula',\n    'promoted_content': None,\n    'query': 'Eula',\n    'tweet_volume': 34489},\n   {'name': 'EMS TAX',\n    'url': 'http://twitter.com/search?q=%22EMS+TAX%22',\n    'promoted_content': None,\n    'query': '%22EMS+TAX%22',\n    'tweet_volume': None},\n   {'name': 'ayato',\n    'url': 'http://twitter.com/search?q=ayato',\n    'promoted_content': None,\n    'query': 'ayato',\n    'tweet_volume': 30734},\n   {'name': 'OPEN PO',\n    'url': 'http://twitter.com/search?q=%22OPEN+PO%22',\n    'promoted_content': None,\n    'query': '%22OPEN+PO%22',\n    'tweet_volume': 15392},\n   {'name': 'Itto',\n    'url': 'http://twitter.com/search?q=Itto',\n    'promoted_content': None,\n    'query': 'Itto',\n    'tweet_volume': 104047},\n   {'name': 'Eunkwang',\n    'url': 'http://twitter.com/search?q=Eunkwang',\n    'promoted_content': None,\n    'query': 'Eunkwang',\n    'tweet_volume': 54890},\n   {'name': 'TBL TBL TBL',\n    'url': 'http://twitter.com/search?q=%22TBL+TBL+TBL%22',\n    'promoted_content': None,\n    'query': '%22TBL+TBL+TBL%22',\n    'tweet_volume': 16094},\n   {'name': 'GO Line',\n    'url': 'http://twitter.com/search?q=%22GO+Line%22',\n    'promoted_content': None,\n    'query': '%22GO+Line%22',\n    'tweet_volume': 18339},\n   {'name': '#peShan',\n    'url': 'http://twitter.com/search?q=%23peShan',\n    'promoted_content': None,\n    'query': '%23peShan',\n    'tweet_volume': None},\n   {'name': '#Seungmin',\n    'url': 'http://twitter.com/search?q=%23Seungmin',\n    'promoted_content': None,\n    'query': '%23Seungmin',\n    'tweet_volume': 14470},\n   {'name': '#HARUKYU',\n    'url': 'http://twitter.com/search?q=%23HARUKYU',\n    'promoted_content': None,\n    'query': '%23HARUKYU',\n    'tweet_volume': None}],\n  'as_of': '2021-11-22T14:17:12Z',\n  'created_at': '2021-11-12T13:23:38Z',\n  'locations': [{'name': 'Jakarta', 'woeid': 1047378}]}]"
     },
     "execution_count": 8,
     "metadata": {},
     "output_type": "execute_result"
    }
   ],
   "source": [
    "# JSON to List\n",
    "import json\n",
    "jakarta_trending_list = json.loads(jakarta_trending.text)\n",
    "jakarta_trending_list"
   ],
   "metadata": {
    "collapsed": false,
    "pycharm": {
     "name": "#%%\n"
    }
   }
  },
  {
   "cell_type": "code",
   "execution_count": 9,
   "outputs": [],
   "source": [
    "import numpy as np\n",
    "jak_trend = jakarta_trending_list[0]['trends']"
   ],
   "metadata": {
    "collapsed": false,
    "pycharm": {
     "name": "#%%\n"
    }
   }
  },
  {
   "cell_type": "code",
   "execution_count": 10,
   "outputs": [],
   "source": [
    "import pandas as pd\n",
    "\n",
    "jak_trend_df = pd.DataFrame(jak_trend)"
   ],
   "metadata": {
    "collapsed": false,
    "pycharm": {
     "name": "#%%\n"
    }
   }
  },
  {
   "cell_type": "code",
   "execution_count": 11,
   "outputs": [
    {
     "data": {
      "text/plain": "0                           xiao\n1                       #AMAsTNT\n2                      #BTSxAMAs\n3     #TelkomDukungUMKMmandalika\n4          #IVE_1st_ConceptPhoto\n5              #IkatanCintaEp520\n6                         Nessie\n7                    Edi Witjara\n8                     Mas Gilang\n9                          Ariel\n10                MEW MEW SO HOT\n11                        Ngeluh\n12                    ITDC Group\n13                        Shenhe\n14                       MS Glow\n15                          SPBU\n16                        Arsyad\n17                         Kojic\n18               YESEO FOR DAZED\n19                          Wine\n20                       Healing\n21                       Juragan\n22                      Marriage\n23                       Arteria\n24                          Bram\n25                          Sapu\n26                        Yunjin\n27                      Penjilat\n28                       Polearm\n29                 Provinsi Jawa\n30                     Selingkuh\n31                       Sejarah\n32                         Karma\n33                    Emil Salim\n34                       Operasi\n35            SF9 TRAUMA OUT NOW\n36                        Jaksel\n37                       Dp 150k\n38                         Ganyu\n39                          Eula\n40                       EMS TAX\n41                         ayato\n42                       OPEN PO\n43                          Itto\n44                      Eunkwang\n45                   TBL TBL TBL\n46                       GO Line\n47                       #peShan\n48                     #Seungmin\n49                      #HARUKYU\nName: name, dtype: object"
     },
     "execution_count": 11,
     "metadata": {},
     "output_type": "execute_result"
    }
   ],
   "source": [
    "jak_trend_df.get('name')"
   ],
   "metadata": {
    "collapsed": false,
    "pycharm": {
     "name": "#%%\n"
    }
   }
  },
  {
   "cell_type": "code",
   "execution_count": 12,
   "outputs": [],
   "source": [
    "# Saving trend list to trend.txt\n",
    "jak_trend_df.to_csv('../dataset/trend.txt')"
   ],
   "metadata": {
    "collapsed": false,
    "pycharm": {
     "name": "#%%\n"
    }
   }
  },
  {
   "cell_type": "code",
   "execution_count": null,
   "outputs": [],
   "source": [],
   "metadata": {
    "collapsed": false,
    "pycharm": {
     "name": "#%%\n"
    }
   }
  }
 ],
 "metadata": {
  "kernelspec": {
   "display_name": "Python 3",
   "language": "python",
   "name": "python3"
  },
  "language_info": {
   "codemirror_mode": {
    "name": "ipython",
    "version": 2
   },
   "file_extension": ".py",
   "mimetype": "text/x-python",
   "name": "python",
   "nbconvert_exporter": "python",
   "pygments_lexer": "ipython2",
   "version": "2.7.6"
  }
 },
 "nbformat": 4,
 "nbformat_minor": 0
}