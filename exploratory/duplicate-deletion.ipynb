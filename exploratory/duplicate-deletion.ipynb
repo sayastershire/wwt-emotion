{
 "cells": [
  {
   "cell_type": "code",
   "execution_count": 24,
   "metadata": {
    "collapsed": true
   },
   "outputs": [
    {
     "name": "stdout",
     "output_type": "stream",
     "text": [
      "(16028, 13)\n"
     ]
    },
    {
     "data": {
      "text/html": [
       "<div>\n",
       "<style scoped>\n",
       "    .dataframe tbody tr th:only-of-type {\n",
       "        vertical-align: middle;\n",
       "    }\n",
       "\n",
       "    .dataframe tbody tr th {\n",
       "        vertical-align: top;\n",
       "    }\n",
       "\n",
       "    .dataframe thead th {\n",
       "        text-align: right;\n",
       "    }\n",
       "</style>\n",
       "<table border=\"1\" class=\"dataframe\">\n",
       "  <thead>\n",
       "    <tr style=\"text-align: right;\">\n",
       "      <th></th>\n",
       "      <th>raw_text</th>\n",
       "      <th>1st_clean_twitter</th>\n",
       "      <th>1st_clean_twitter_gensim</th>\n",
       "      <th>2nd_punctuation</th>\n",
       "      <th>2nd_punctuation_gensim</th>\n",
       "      <th>3rd_emoji</th>\n",
       "      <th>3rd_emoji_gensim</th>\n",
       "      <th>4th_tokenized</th>\n",
       "      <th>4th_tokenized_gensim</th>\n",
       "      <th>sentence</th>\n",
       "      <th>5_tagged</th>\n",
       "      <th>emotion</th>\n",
       "      <th>is_spam</th>\n",
       "    </tr>\n",
       "  </thead>\n",
       "  <tbody>\n",
       "    <tr>\n",
       "      <th>0</th>\n",
       "      <td>REPLY AND RT WITH THE TAGS 💜\\n\\n#AMAsTNT BTS @...</td>\n",
       "      <td>REPLY AND RT WITH THE TAGS 💜\\n\\n AMAsTNT BTS B...</td>\n",
       "      <td>REPLY AND RT WITH THE TAGS 💜\\n\\n BTS</td>\n",
       "      <td>REPLY AND RT WITH THE TAGS 💜\\n\\n AMAsTNT BTS B...</td>\n",
       "      <td>REPLY AND RT WITH THE TAGS 💜\\n\\n BTS</td>\n",
       "      <td>REPLY AND RT WITH THE TAGS \\n\\n AMAsTNT BTS BT...</td>\n",
       "      <td>REPLY AND RT WITH THE TAGS \\n\\n BTS</td>\n",
       "      <td>[REPLY, AND, RT, WITH, THE, TAGS, AMAsTNT, BTS...</td>\n",
       "      <td>[REPLY, AND, RT, WITH, THE, TAGS, BTS]</td>\n",
       "      <td>Sentence: \"REPLY AND RT WITH THE TAGS AMAsTNT ...</td>\n",
       "      <td>[REPLY_PROPN, AND_PROPN, RT_PROPN, WITH_PROPN,...</td>\n",
       "      <td>NaN</td>\n",
       "      <td>1.0</td>\n",
       "    </tr>\n",
       "    <tr>\n",
       "      <th>1</th>\n",
       "      <td>Lockscreens|@BTS_twt \\n#BTSxAMAs #AMAsTNT #BTS...</td>\n",
       "      <td>Lockscreens|BTS_twt \\n BTSxAMAs  AMAsTNT  BTS\\...</td>\n",
       "      <td>Lockscreens| \\n  \\nDon't repost! be honest!∅ \\n</td>\n",
       "      <td>LockscreensBTStwt \\n BTSxAMAs  AMAsTNT  BTS\\nD...</td>\n",
       "      <td>Lockscreens \\n  \\nDont repost! be honest!∅ \\n</td>\n",
       "      <td>LockscreensBTStwt \\n BTSxAMAs  AMAsTNT  BTS\\nD...</td>\n",
       "      <td>Lockscreens \\n  \\nDont repost! be honest!∅ \\n</td>\n",
       "      <td>[LockscreensBTStwt, BTSxAMAs, AMAsTNT, BTS, Do...</td>\n",
       "      <td>[Lockscreens, Dont, repost, !, be, honest, !, ∅]</td>\n",
       "      <td>Sentence: \"LockscreensBTStwt BTSxAMAs AMAsTNT ...</td>\n",
       "      <td>[LockscreensBTStwt_PROPN, BTSxAMAs_PROPN, AMAs...</td>\n",
       "      <td>NaN</td>\n",
       "      <td>1.0</td>\n",
       "    </tr>\n",
       "    <tr>\n",
       "      <th>2</th>\n",
       "      <td>i love them 😭\\n\\n#AMAsTNT BTS @BTS_twt\\n\\nhttp...</td>\n",
       "      <td>i love them 😭\\n\\n AMAsTNT BTS BTS_twt\\n\\n</td>\n",
       "      <td>i love them 😭\\n\\n BTS \\n\\n</td>\n",
       "      <td>i love them 😭\\n\\n AMAsTNT BTS BTStwt\\n\\n</td>\n",
       "      <td>i love them 😭\\n\\n BTS \\n\\n</td>\n",
       "      <td>i love them \\n\\n AMAsTNT BTS BTStwt\\n\\n</td>\n",
       "      <td>i love them \\n\\n BTS \\n\\n</td>\n",
       "      <td>[i, love, them, AMAsTNT, BTS, BTStwt]</td>\n",
       "      <td>[i, love, them, BTS]</td>\n",
       "      <td>Sentence: \"i love them AMAsTNT BTS BTStwt\"   [...</td>\n",
       "      <td>[i_PROPN, love_PROPN, them_PROPN, AMAsTNT_PROP...</td>\n",
       "      <td>h</td>\n",
       "      <td>NaN</td>\n",
       "    </tr>\n",
       "    <tr>\n",
       "      <th>3</th>\n",
       "      <td>[📸]\\n\\nNew Kids on The Block  bersama BTS.\\n\\n...</td>\n",
       "      <td>[📸]\\n\\nNew Kids on The Block  bersama BTS.\\n\\n...</td>\n",
       "      <td>[📸]\\n\\nNew Kids on The Block  bersama BTS.\\n\\n...</td>\n",
       "      <td>📸\\n\\nNew Kids on The Block  bersama BTS\\n\\nDon...</td>\n",
       "      <td>📸\\n\\nNew Kids on The Block  bersama BTS.\\n\\nDo...</td>\n",
       "      <td>\\n\\nNew Kids on The Block  bersama BTS\\n\\nDonn...</td>\n",
       "      <td>\\n\\nNew Kids on The Block  bersama BTS.\\n\\nDon...</td>\n",
       "      <td>[New, Kids, on, The, Block, bersama, BTS, Donn...</td>\n",
       "      <td>[New, Kids, on, The, Block, bersama, BTS, ., D...</td>\n",
       "      <td>Sentence: \"New Kids on The Block bersama BTS D...</td>\n",
       "      <td>[New_PROPN, Kids_PROPN, on_PROPN, The_PROPN, B...</td>\n",
       "      <td>NaN</td>\n",
       "      <td>1.0</td>\n",
       "    </tr>\n",
       "    <tr>\n",
       "      <th>4</th>\n",
       "      <td>[📸]\\n\\nShawn Stockman instagram update.\\n\\n📎 :...</td>\n",
       "      <td>[📸]\\n\\nShawn Stockman instagram update.\\n\\n📎 :...</td>\n",
       "      <td>[📸]\\n\\nShawn Stockman instagram update.\\n\\n📎 :...</td>\n",
       "      <td>📸\\n\\nShawn Stockman instagram update\\n\\n📎   \\n...</td>\n",
       "      <td>📸\\n\\nShawn Stockman instagram update.\\n\\n📎   \\...</td>\n",
       "      <td>\\n\\nShawn Stockman instagram update\\n\\n   \\n\\n...</td>\n",
       "      <td>\\n\\nShawn Stockman instagram update.\\n\\n   \\n\\...</td>\n",
       "      <td>[Shawn, Stockman, instagram, update, BTSxAMAs,...</td>\n",
       "      <td>[Shawn, Stockman, instagram, update, ., 방탄소년단]</td>\n",
       "      <td>Sentence: \"Shawn Stockman instagram update BTS...</td>\n",
       "      <td>[Shawn_PROPN, Stockman_PROPN, instagram_PROPN,...</td>\n",
       "      <td>NaN</td>\n",
       "      <td>1.0</td>\n",
       "    </tr>\n",
       "  </tbody>\n",
       "</table>\n",
       "</div>"
      ],
      "text/plain": [
       "                                            raw_text  \\\n",
       "0  REPLY AND RT WITH THE TAGS 💜\\n\\n#AMAsTNT BTS @...   \n",
       "1  Lockscreens|@BTS_twt \\n#BTSxAMAs #AMAsTNT #BTS...   \n",
       "2  i love them 😭\\n\\n#AMAsTNT BTS @BTS_twt\\n\\nhttp...   \n",
       "3  [📸]\\n\\nNew Kids on The Block  bersama BTS.\\n\\n...   \n",
       "4  [📸]\\n\\nShawn Stockman instagram update.\\n\\n📎 :...   \n",
       "\n",
       "                                   1st_clean_twitter  \\\n",
       "0  REPLY AND RT WITH THE TAGS 💜\\n\\n AMAsTNT BTS B...   \n",
       "1  Lockscreens|BTS_twt \\n BTSxAMAs  AMAsTNT  BTS\\...   \n",
       "2          i love them 😭\\n\\n AMAsTNT BTS BTS_twt\\n\\n   \n",
       "3  [📸]\\n\\nNew Kids on The Block  bersama BTS.\\n\\n...   \n",
       "4  [📸]\\n\\nShawn Stockman instagram update.\\n\\n📎 :...   \n",
       "\n",
       "                            1st_clean_twitter_gensim  \\\n",
       "0              REPLY AND RT WITH THE TAGS 💜\\n\\n BTS    \n",
       "1   Lockscreens| \\n  \\nDon't repost! be honest!∅ \\n    \n",
       "2                         i love them 😭\\n\\n BTS \\n\\n   \n",
       "3  [📸]\\n\\nNew Kids on The Block  bersama BTS.\\n\\n...   \n",
       "4  [📸]\\n\\nShawn Stockman instagram update.\\n\\n📎 :...   \n",
       "\n",
       "                                     2nd_punctuation  \\\n",
       "0  REPLY AND RT WITH THE TAGS 💜\\n\\n AMAsTNT BTS B...   \n",
       "1  LockscreensBTStwt \\n BTSxAMAs  AMAsTNT  BTS\\nD...   \n",
       "2           i love them 😭\\n\\n AMAsTNT BTS BTStwt\\n\\n   \n",
       "3  📸\\n\\nNew Kids on The Block  bersama BTS\\n\\nDon...   \n",
       "4  📸\\n\\nShawn Stockman instagram update\\n\\n📎   \\n...   \n",
       "\n",
       "                              2nd_punctuation_gensim  \\\n",
       "0              REPLY AND RT WITH THE TAGS 💜\\n\\n BTS    \n",
       "1     Lockscreens \\n  \\nDont repost! be honest!∅ \\n    \n",
       "2                         i love them 😭\\n\\n BTS \\n\\n   \n",
       "3  📸\\n\\nNew Kids on The Block  bersama BTS.\\n\\nDo...   \n",
       "4  📸\\n\\nShawn Stockman instagram update.\\n\\n📎   \\...   \n",
       "\n",
       "                                           3rd_emoji  \\\n",
       "0  REPLY AND RT WITH THE TAGS \\n\\n AMAsTNT BTS BT...   \n",
       "1  LockscreensBTStwt \\n BTSxAMAs  AMAsTNT  BTS\\nD...   \n",
       "2            i love them \\n\\n AMAsTNT BTS BTStwt\\n\\n   \n",
       "3  \\n\\nNew Kids on The Block  bersama BTS\\n\\nDonn...   \n",
       "4  \\n\\nShawn Stockman instagram update\\n\\n   \\n\\n...   \n",
       "\n",
       "                                    3rd_emoji_gensim  \\\n",
       "0               REPLY AND RT WITH THE TAGS \\n\\n BTS    \n",
       "1     Lockscreens \\n  \\nDont repost! be honest!∅ \\n    \n",
       "2                          i love them \\n\\n BTS \\n\\n   \n",
       "3  \\n\\nNew Kids on The Block  bersama BTS.\\n\\nDon...   \n",
       "4  \\n\\nShawn Stockman instagram update.\\n\\n   \\n\\...   \n",
       "\n",
       "                                       4th_tokenized  \\\n",
       "0  [REPLY, AND, RT, WITH, THE, TAGS, AMAsTNT, BTS...   \n",
       "1  [LockscreensBTStwt, BTSxAMAs, AMAsTNT, BTS, Do...   \n",
       "2              [i, love, them, AMAsTNT, BTS, BTStwt]   \n",
       "3  [New, Kids, on, The, Block, bersama, BTS, Donn...   \n",
       "4  [Shawn, Stockman, instagram, update, BTSxAMAs,...   \n",
       "\n",
       "                                4th_tokenized_gensim  \\\n",
       "0             [REPLY, AND, RT, WITH, THE, TAGS, BTS]   \n",
       "1   [Lockscreens, Dont, repost, !, be, honest, !, ∅]   \n",
       "2                               [i, love, them, BTS]   \n",
       "3  [New, Kids, on, The, Block, bersama, BTS, ., D...   \n",
       "4     [Shawn, Stockman, instagram, update, ., 방탄소년단]   \n",
       "\n",
       "                                            sentence  \\\n",
       "0  Sentence: \"REPLY AND RT WITH THE TAGS AMAsTNT ...   \n",
       "1  Sentence: \"LockscreensBTStwt BTSxAMAs AMAsTNT ...   \n",
       "2  Sentence: \"i love them AMAsTNT BTS BTStwt\"   [...   \n",
       "3  Sentence: \"New Kids on The Block bersama BTS D...   \n",
       "4  Sentence: \"Shawn Stockman instagram update BTS...   \n",
       "\n",
       "                                            5_tagged emotion  is_spam  \n",
       "0  [REPLY_PROPN, AND_PROPN, RT_PROPN, WITH_PROPN,...     NaN      1.0  \n",
       "1  [LockscreensBTStwt_PROPN, BTSxAMAs_PROPN, AMAs...     NaN      1.0  \n",
       "2  [i_PROPN, love_PROPN, them_PROPN, AMAsTNT_PROP...       h      NaN  \n",
       "3  [New_PROPN, Kids_PROPN, on_PROPN, The_PROPN, B...     NaN      1.0  \n",
       "4  [Shawn_PROPN, Stockman_PROPN, instagram_PROPN,...     NaN      1.0  "
      ]
     },
     "execution_count": 24,
     "metadata": {},
     "output_type": "execute_result"
    }
   ],
   "source": [
    "import pandas as pd\n",
    "\n",
    "tweets_df = pd.concat([pd.read_json('../dataset/tweet-processed.json', orient='index'), pd.read_excel('../dataset/tweet-label-merged.xlsx').drop(['Unnamed: 0', 'raw_text'], axis=1)], axis=1)\n",
    "print(tweets_df.shape)\n",
    "tweets_df.head()"
   ]
  },
  {
   "cell_type": "code",
   "execution_count": 25,
   "metadata": {
    "collapsed": false,
    "pycharm": {
     "name": "#%%\n"
    }
   },
   "outputs": [
    {
     "data": {
      "text/plain": [
       "<AxesSubplot:xlabel='emotion', ylabel='Count'>"
      ]
     },
     "execution_count": 25,
     "metadata": {},
     "output_type": "execute_result"
    },
    {
     "data": {
      "image/png": "[encoded data removed]",
      "text/plain": [
       "<Figure size 432x288 with 1 Axes>"
      ]
     },
     "metadata": {
      "needs_background": "light"
     },
     "output_type": "display_data"
    }
   ],
   "source": [
    "import seaborn as sns\n",
    "\n",
    "sns.histplot(tweets_df, x='emotion', hue='emotion')"
   ]
  },
  {
   "cell_type": "code",
   "execution_count": 18,
   "metadata": {
    "collapsed": false,
    "pycharm": {
     "name": "#%%\n"
    }
   },
   "outputs": [],
   "source": [
    "tweets_df = tweets_df.drop_duplicates('raw_text')"
   ]
  },
  {
   "cell_type": "code",
   "execution_count": 19,
   "metadata": {},
   "outputs": [],
   "source": [
    "tweets_df.to_excel('../dataset/tweet-label-merged.xlsx')"
   ]
  },
  {
   "cell_type": "code",
   "execution_count": null,
   "metadata": {},
   "outputs": [],
   "source": []
  }
 ],
 "metadata": {
  "kernelspec": {
   "display_name": "Python 3",
   "language": "python",
   "name": "python3"
  },
  "language_info": {
   "codemirror_mode": {
    "name": "ipython",
    "version": 3
   },
   "file_extension": ".py",
   "mimetype": "text/x-python",
   "name": "python",
   "nbconvert_exporter": "python",
   "pygments_lexer": "ipython3",
   "version": "3.9.2"
  }
 },
 "nbformat": 4,
 "nbformat_minor": 0
}
